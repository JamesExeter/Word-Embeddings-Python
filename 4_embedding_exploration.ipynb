{
  "nbformat": 4,
  "nbformat_minor": 0,
  "metadata": {
    "kernelspec": {
      "display_name": "Python 3",
      "language": "python",
      "name": "python3"
    },
    "language_info": {
      "codemirror_mode": {
        "name": "ipython",
        "version": 3
      },
      "file_extension": ".py",
      "mimetype": "text/x-python",
      "name": "python",
      "nbconvert_exporter": "python",
      "pygments_lexer": "ipython3",
      "version": "3.7.6"
    },
    "colab": {
      "name": "4_embedding_exploration.ipynb",
      "provenance": [],
      "collapsed_sections": [],
      "include_colab_link": true
    }
  },
  "cells": [
    {
      "cell_type": "markdown",
      "metadata": {
        "id": "view-in-github",
        "colab_type": "text"
      },
      "source": [
        "<a href=\"https://colab.research.google.com/github/JamesExeter/Word-Embeddings-Python/blob/main/4_embedding_exploration.ipynb\" target=\"_parent\"><img src=\"https://colab.research.google.com/assets/colab-badge.svg\" alt=\"Open In Colab\"/></a>"
      ]
    },
    {
      "cell_type": "markdown",
      "metadata": {
        "id": "oDVvQSVbcRta"
      },
      "source": [
        "# Word Embedding\n",
        "\n",
        "### Aims\n",
        "* Get familiar with basic Vector Space Model and Word Embedding Models\n",
        "* Figure out the difference between TF-IDF and Word2Vec\n",
        "* Explore the application of Word Embedding\n",
        "\n",
        "### Outline\n",
        "* Term-document Matrix\n",
        "* TF-IDF Vector\n",
        "* Word2Vec"
      ]
    },
    {
      "cell_type": "markdown",
      "metadata": {
        "id": "Rc4OExk3cRtd"
      },
      "source": [
        "## 1. Acquiring Raw Data & Preprocessing\n",
        "\n",
        "First, let's obtain all complete works of Shakespeare that we can use to run our word embedding experiments. We'll start the process by downloading some raw text from Project Gutenberg, a repository of hundreds of free ebooks: http://www.gutenberg.org/."
      ]
    },
    {
      "cell_type": "code",
      "metadata": {
        "tags": [],
        "id": "Q94_D3k-cRte"
      },
      "source": [
        "from urllib import request\n",
        "\n",
        "url = 'http://www.gutenberg.org/files/100/100-0.txt'\n",
        "response = request.urlopen(url)\n",
        "\n",
        "# remove single carriage return symbols from each line of text\n",
        "shakespeare_list = [sent.decode('utf-8').lstrip().replace('\\r', '') for sent in response.readlines() if sent != b'\\r\\n']\n",
        "\n",
        "# save the text to a local file\n",
        "with open('shakespeare_sentences.txt', 'w', encoding='utf-8') as f:\n",
        "    f.writelines(shakespeare_list)"
      ],
      "execution_count": 2,
      "outputs": []
    },
    {
      "cell_type": "code",
      "metadata": {
        "id": "TRVZdiEocRte"
      },
      "source": [
        "# choose a selection of plays \n",
        "title_list = ['Hamlet', 'Romeo&Juliet', 'Twelfth Night', 'Julius Caesar']\n",
        "\n",
        "# list the URLs for the EBooks\n",
        "book_url_list = [\n",
        "    'http://www.gutenberg.org/files/1524/1524-0.txt', \n",
        "    'http://www.gutenberg.org/files/1513/1513-0.txt', \n",
        "    'http://www.gutenberg.org/files/1526/1526-0.txt', \n",
        "    'http://www.gutenberg.org/files/1522/1522-0.txt'\n",
        "]\n",
        "\n",
        "book_list = []\n",
        "for title, url in zip(title_list, book_url_list):\n",
        "    \n",
        "    # get data from URL\n",
        "    response = request.urlopen(url)\n",
        "    \n",
        "    # remove single carriage return symbols from each line of text\n",
        "    sentence_list = [sent.decode('utf-8').lstrip().replace('\\r', '') for sent in response.readlines() if sent != b'\\r\\n']\n",
        "    \n",
        "    # join the lines from the file together into a single string\n",
        "    book = ''.join(sentence_list)\n",
        "    \n",
        "    # add the string containing the book's text to the list of books\n",
        "    book_list.append(book)"
      ],
      "execution_count": 3,
      "outputs": []
    },
    {
      "cell_type": "code",
      "metadata": {
        "tags": [],
        "colab": {
          "base_uri": "https://localhost:8080/"
        },
        "id": "0jeQQX0LcRtf",
        "outputId": "d62acf51-05eb-4c6a-c5b5-5406839e062b"
      },
      "source": [
        "# show the first part of each book\n",
        "for book in book_list:\n",
        "    print(book[:300])"
      ],
      "execution_count": 4,
      "outputs": [
        {
          "output_type": "stream",
          "text": [
            "﻿\n",
            "Project Gutenberg EBook of Hamlet, by William Shakespeare\n",
            "This eBook is for the use of anyone anywhere in the United States and\n",
            "most other parts of the world at no cost and with almost no\n",
            "restrictions whatsoever.  You may copy it, give it away or re-use it\n",
            "under the terms of the Project Gutenberg \n",
            "﻿The Project Gutenberg eBook of Romeo and Juliet, by William Shakespeare\n",
            "This eBook is for the use of anyone anywhere in the United States and\n",
            "most other parts of the world at no cost and with almost no restrictions\n",
            "whatsoever. You may copy it, give it away or re-use it under the terms\n",
            "of the Projec\n",
            "﻿\t\n",
            "Project Gutenberg’s Twelfth Night, by William Shakespeare\n",
            "This eBook is for the use of anyone anywhere in the United States and\n",
            "most other parts of the world at no cost and with almost no restrictions\n",
            "whatsoever. You may copy it, give it away or re-use it under the terms\n",
            "of the Project Gutenberg \n",
            "﻿\n",
            "Project Gutenberg’s Julius Caesar, by William Shakespeare\n",
            "This eBook is for the use of anyone anywhere in the United States and\n",
            "most other parts of the world at no cost and with almost no restrictions\n",
            "whatsoever. You may copy it, give it away or re-use it under the terms\n",
            "of the Project Gutenberg L\n"
          ],
          "name": "stdout"
        }
      ]
    },
    {
      "cell_type": "markdown",
      "metadata": {
        "id": "8preXkhncRtg"
      },
      "source": [
        "## 2. Term-document Matrix\n",
        "\n",
        "We are going to build a Term-document Matrix in this part. If you remember from lecture video 3.2, a term document matrix gives us a simple way to construct vector representations of terms and documents.\n",
        "\n",
        "To complete the matrix, we need to count the number of times that each word occurs in each document. Recall that we have previously used ```FreqDist``` from the ```NLTK``` to count word frequency. However, ```FreqDist``` and other related NLTK classes are not the most convenient tools for obtaining a term-document matrix, as they don't provide a convenient way to look up row and column vectors and perform mathematical operations on them. \n",
        "\n",
        "In Python, the best library for working with matrices is ```numpy```, which we have already used. In ```numpy```, matrices (grids of values) are represented by objects of the ```np.array``` class. So how can we get a ```numpy``` array that represents a term-document matrix? We will use the Scikit-learn (```sklearn```) library, which builds on top of numpy to provide tools for machine learning and data science. Sklearn provides the CountVectorizer class to obtain vectors (also ```np.array``` objects with one dimension) from sequences of tokens."
      ]
    },
    {
      "cell_type": "code",
      "metadata": {
        "tags": [],
        "colab": {
          "base_uri": "https://localhost:8080/"
        },
        "id": "Qgcpa2z7cRth",
        "outputId": "65f79915-fe1d-441f-be3d-a9eaa1e544f9"
      },
      "source": [
        "import numpy as np  # for linear algebra\n",
        "from sklearn.feature_extraction.text import CountVectorizer\n",
        "from nltk import FreqDist\n",
        "\n",
        "idx = 3 # choose the book with index 3 -- Julius Caesar\n",
        "\n",
        "\n",
        "article_list = [book_list[idx]]  # list the articles to vectorize. This time we only vectorize a single book.\n",
        "vectorizer = CountVectorizer() # initialize a vectorizer to count words\n",
        "term_doc_spmatrix = vectorizer.fit_transform(article_list) # fit the vectorizer to the given list of documents\n",
        "vocab = vectorizer.vocabulary_ # returns a dict mapping word to its index of the matrix\n",
        "features = vectorizer.get_feature_names() # returns all words(features)\n",
        "\n",
        "print(\"There are {} words in {}:\\n\".format(len(features), title_list[idx]))"
      ],
      "execution_count": 12,
      "outputs": [
        {
          "output_type": "stream",
          "text": [
            "There are 3304 words in Julius Caesar:\n",
            "\n"
          ],
          "name": "stdout"
        }
      ]
    },
    {
      "cell_type": "markdown",
      "metadata": {
        "id": "D2I85jpCcRth"
      },
      "source": [
        "After fitting the vectorizer, the programme returns a sparse matrix $A$, which we assign to ```word_count_sparse```. Each entry of the matrix, $A_{ij}$ represents that word $w_j$ occurs $A_{ij}$ times in document $d_i$. \n",
        "\n",
        "A sparse matrix only records the non-zero values in the matrix by their indices, which can save a lot of memory when the matrix is sparse, i.e., when it has mainly zeros. However, it is slightly more complex to work with. So, for our convenience, we can turn the sparse matrix into a standard numpy array by ```toarray()``` (this convenience comes at the cost of taking up more memory)."
      ]
    },
    {
      "cell_type": "code",
      "metadata": {
        "colab": {
          "base_uri": "https://localhost:8080/"
        },
        "id": "77z2Zh9acRti",
        "outputId": "a81fd99d-45b6-4db7-a216-5e5454164142"
      },
      "source": [
        "term_doc_matrix = term_doc_spmatrix.toarray()\n",
        "\n",
        "print('the dimensions of this word_count array are: {}'.format(term_doc_matrix.shape))"
      ],
      "execution_count": 6,
      "outputs": [
        {
          "output_type": "stream",
          "text": [
            "the dimensions of this word_count array are: (1, 3304)\n"
          ],
          "name": "stdout"
        }
      ]
    },
    {
      "cell_type": "markdown",
      "metadata": {
        "id": "Wt1GNeWCcRti"
      },
      "source": [
        "Notice that the ```word_count``` object is a 1x3304 matrix. The single row is because we have only one document at the moment. In this case, rows are documents and columns are terms.\n",
        "\n",
        "Now we can tell how many times a word occurs in the document by looking up it through the matrix properly."
      ]
    },
    {
      "cell_type": "code",
      "metadata": {
        "tags": [],
        "colab": {
          "base_uri": "https://localhost:8080/"
        },
        "id": "824Y7MU2cRtj",
        "outputId": "4ef22057-a6bc-4290-c415-2d7cc9738758"
      },
      "source": [
        "word_list = [u'battle', u'good', u'fool', u'wit']  # the u before each token indicates a unicode string\n",
        "\n",
        "word_counts = np.zeros(len(word_list)) # This will be a list of counts for each word. \n",
        "\n",
        "for w, word in enumerate(word_list):\n",
        "    if word in vocab.keys():  \n",
        "        # If the word is in the vocabulary, add its count to the list.\n",
        "        word_idx = vocab[word]  # index in the vocabulary\n",
        "        word_counts[w] = term_doc_matrix[0, word_idx]  # use index zero to refer to the first row/document\n",
        "    # If the word is not in the vocab, it remains zero.\n",
        "\n",
        "print(\"In {}:\\n\".format(title_list[idx]))\n",
        "for i, word in enumerate(word_list):\n",
        "    print(\"{}: {}\\n\".format(word, word_counts[i]))"
      ],
      "execution_count": 7,
      "outputs": [
        {
          "output_type": "stream",
          "text": [
            "In Julius Caesar:\n",
            "\n",
            "battle: 9.0\n",
            "\n",
            "good: 70.0\n",
            "\n",
            "fool: 1.0\n",
            "\n",
            "wit: 2.0\n",
            "\n"
          ],
          "name": "stdout"
        }
      ]
    },
    {
      "cell_type": "markdown",
      "metadata": {
        "id": "TXX1CD1IcRtj"
      },
      "source": [
        "TODO: Complete the code below to count the given words in the 4 books stored in ```book_list```. Store the counts in a $4 \\times 4$ array called ```term_doc_matrix```. "
      ]
    },
    {
      "cell_type": "code",
      "metadata": {
        "colab": {
          "base_uri": "https://localhost:8080/"
        },
        "id": "-nTpqlJncRtk",
        "outputId": "ea763a01-87b5-4bcd-a11d-32407422b7ef"
      },
      "source": [
        "word_list = [u'battle', u'good', u'fool', u'wit']\n",
        "\n",
        "vectorizer = CountVectorizer()\n",
        "term_doc_spmatrix = vectorizer.fit_transform(book_list)\n",
        "book_vocab = vectorizer.vocabulary_\n",
        "term_doc_matrix = term_doc_spmatrix.toarray()\n",
        "\n",
        "# We will select the columns from the term document matrix that contain counts for words in word_list.\n",
        "# Unlike the previous cell, instead of storing a single count, we now store word counts for all 4 books. \n",
        "term_doc_cols = np.zeros((len(title_list), len(word_list)))  # 4x4 matrix with books as rows and words as cols\n",
        "\n",
        "### WRITE YOUR CODE HERE\n",
        "features = vectorizer.get_feature_names() # returns all words(features)\n",
        "print('the dimensions of this word_count array are: {}'.format(term_doc_matrix.shape))\n",
        "\n",
        "for idx, book in enumerate(book_list):\n",
        "  for w, word in enumerate(word_list):\n",
        "    if word in book_vocab.keys():\n",
        "      word_idx = book_vocab[word]\n",
        "      term_doc_cols[idx, w] = term_doc_matrix[idx, word_idx]\n",
        "  \n",
        "  print(\"In {}:\\n\".format(title_list[idx]))\n",
        "  for i, word in enumerate(word_list):\n",
        "    print(\"{}: {}\\n\".format(word, term_doc_cols[idx, i]))"
      ],
      "execution_count": 71,
      "outputs": [
        {
          "output_type": "stream",
          "text": [
            "['000', '1500', '1513', '1522', '1524', '1526', '18', '1887', '19', '1998', '20', '2001', '2019', '2021', '30', '50', '501', '596', '60', '6221541', '64', '750175', '801', '809', '84116', '90', '99775', '_a', '_above', '_advances', '_advancing', '_alarums', '_alas', '_anon', '_as', '_aside', '_beating', '_beats', '_behind', '_beneath', '_bonos', '_breaking', '_brutus', '_but', '_by', '_casca', '_castiliano', '_catch', '_charges', '_clock', '_cries', '_cucullus', '_descends', '_dies', '_dieu', '_digs', '_diluculo', '_doubt', '_drawing', '_draws', '_drinks', '_enter', '_enters', '_et', '_exeunt', '_exit', '_falls', '_fare', '_farewell', '_flourish', '_for', '_ghost', '_gives', '_goes', '_going', '_grappling', '_hamlet', '_he', '_hey', '_hic', '_his', '_i', '_if', '_juliet', '_king', '_kisses', '_kissing', '_kneeling', '_knock', '_knocking', '_laertes', '_laying', '_leaps', '_loud', '_low', '_lucius', '_lying', '_makes', '_march', '_music', '_my', '_noise', '_nurse', '_o', '_offering', '_one', '_opens', '_phoenix_', '_pia', '_pindarus', '_play', '_pointing', '_points', '_polonius', '_pourquoy', '_pourquoy_', '_pours', '_primo', '_putting', '_reads', '_retires', '_retires_', '_retiring', '_run', '_scattering', '_se', '_seeing', '_sennet', '_servants', '_shall', '_she', '_shout', '_signior', '_singing', '_sings', '_sir', '_sleeps', '_snatching', '_stabs', '_striking', '_takes', '_taking', '_the', '_there', '_these', '_they', '_thou', '_three', '_throws', '_thunder', '_tiger_', '_to', '_trumpets', '_unveiling', '_videlicet_', '_vox_', '_what', '_whispering', '_whispers', '_within', '_wonder', '_writing', '_youth', 'abandon', 'abate', 'abatement', 'abatements', 'abbey', 'abed', 'abhorred', 'abhors', 'abide', 'ability', 'abjur', 'able', 'abler', 'aboard', 'abominably', 'abound', 'about', 'above', 'abraham', 'abram', 'abridg', 'abridgement', 'abroach', 'abroad', 'absence', 'absent', 'absolute', 'absolv', 'absolver', 'abstinence', 'abstracts', 'absurd', 'abus', 'abuse', 'abused', 'abuses', 'accent', 'accents', 'accept', 'accepted', 'accepting', 'accepts', 'access', 'accessed', 'accessible', 'accident', 'accidental', 'accidents', 'accomplished', 'accord', 'accordance', 'according', 'accost', 'accosted', 'account', 'accounted', 'accoutred', 'accurs', 'accurst', 'accuse', 'accustom', 'ache', 'aches', 'achieve', 'achievements', 'aching', 'acknowledge', 'acquaint', 'acquaintance', 'acquainted', 'acquire', 'acquit', 'acquittance', 'acres', 'across', 'act', 'acted', 'acting', 'action', 'actions', 'active', 'actively', 'actor', 'actors', 'acts', 'actual', 'adam', 'add', 'added', 'adder', 'adders', 'addicted', 'adding', 'addition', 'additional', 'additions', 'addle', 'address', 'addresses', 'adds', 'adheres', 'adieu', 'adjacent', 'adjoin', 'adjoining', 'admirable', 'admiration', 'admire', 'admired', 'admit', 'admittance', 'admitted', 'ado', 'adoption', 'adorations', 'adore', 'adored', 'adores', 'adulterate', 'advanc', 'advance', 'advanced', 'advancement', 'advances', 'advantage', 'adventure', 'adventurous', 'adversary', 'adverse', 'adversity', 'advice', 'advise', 'advises', 'aemilius', 'aeneas', 'afar', 'afeard', 'affability', 'affair', 'affairs', 'affect', 'affectation', 'affecting', 'affection', 'affectioned', 'affections', 'affirmatives', 'afflict', 'afflicted', 'affliction', 'afflicts', 'afford', 'affords', 'affray', 'affright', 'affrighted', 'affront', 'afire', 'afloat', 'afoot', 'afore', 'afraid', 'after', 'afternoon', 'afterwards', 'again', 'against', 'agate', 'age', 'aged', 'agent', 'ages', 'agile', 'ago', 'agone', 'agree', 'agreed', 'agreeing', 'agreement', 'agrees', 'ague', 'aguecheek', 'agueface', 'ah', 'aid', 'aim', 'air', 'airless', 'airs', 'airy', 'ak', 'alack', 'alarm', 'alarum', 'alarums', 'alas', 'alaska', 'albeit', 'alchemy', 'alderman', 'ale', 'alexander', 'alike', 'alive', 'all', 'alla', 'allay', 'allegiance', 'alleys', 'alliance', 'allied', 'alligator', 'allow', 'allowance', 'allowed', 'ally', 'almost', 'alone', 'along', 'aloof', 'aloud', 'alphabetical', 'already', 'also', 'altars', 'alter', 'alteration', 'altered', 'alternate', 'although', 'altitude', 'altogether', 'always', 'am', 'amaz', 'amaze', 'amazed', 'amazement', 'ambassador', 'ambassadors', 'amber', 'ambiguities', 'ambiguous', 'ambition', 'ambitious', 'amble', 'ambling', 'ambuscados', 'amen', 'amend', 'amended', 'amends', 'amerce', 'amiss', 'amities', 'among', 'amorous', 'ample', 'an', 'anatomy', 'ancestor', 'ancestors', 'anchises', 'anchor', 'ancient', 'and', 'andrew', 'angel', 'angelica', 'angelical', 'angels', 'anger', 'angle', 'angry', 'anguish', 'animals', 'ankle', 'anne', 'annexment', 'annoy', 'annoying', 'annual', 'anoint', 'anon', 'another', 'another_', 'anselmo', 'answer', 'answered', 'answerest', 'answering', 'antic', 'anticipation', 'antique', 'antiquity', 'antonio', 'antonius', 'antony', 'any', 'anyone', 'anything', 'anywhere', 'apace', 'apart', 'apartment', 'ape', 'apes', 'apiece', 'apology', 'apoplex', 'apothecary', 'appal', 'apparel', 'apparell', 'apparent', 'apparition', 'appear', 'appeared', 'appearing', 'appears', 'appeas', 'appertain', 'appertaining', 'appetite', 'applaud', 'applauses', 'apple', 'appliance', 'applicable', 'applies', 'apply', 'appoint', 'appointment', 'apprehend', 'apprehended', 'apprehension', 'apprehensive', 'approach', 'approaches', 'approbation', 'approve', 'appurtenance', 'april', 'apron', 'apt', 'aptly', 'aqua', 'arbitrating', 'arbitrement', 'arbors', 'archive', 'ardour', 'are', 'argal', 'argues', 'arguing', 'argument', 'arguments', 'aright', 'arion', 'arise', 'arises', 'arithmetic', 'arm', 'armed', 'armies', 'arming', 'armour', 'arms', 'army', 'arose', 'aroused', 'arraign', 'arrant', 'arras', 'array', 'arrest', 'arrests', 'arriv', 'arrive', 'arrived', 'arrives', 'arrow', 'arrows', 'arse', 'art', 'artemidorus', 'artery', 'article', 'articles', 'artificial', 'artless', 'arts', 'as', 'ascend', 'ascended', 'ascii', 'asham', 'ashamed', 'ashes', 'aside', 'ask', 'asked', 'asking', 'aslant', 'asleep', 'aspect', 'aspir', 'ass', 'assail', 'assailant', 'assailing', 'assault', 'assay', 'assays', 'assemble', 'assembly', 'asses', 'assigns', 'assistance', 'assistant', 'associate', 'associated', 'associates', 'assume', 'assur', 'assurance', 'assure', 'astonish', 'asunder', 'at', 'ate', 'atomies', 'attach', 'attached', 'attain', 'attains', 'attempt', 'attempts', 'attend', 'attendance', 'attendant', 'attendants', 'attended', 'attending', 'attends', 'attent', 'attested', 'attire', 'attires', 'attractive', 'attracts', 'attribute', 'audience', 'audit', 'aught', 'augmentation', 'augmented', 'augmenting', 'augurers', 'augury', 'aunt', 'aurora', 'auspicious', 'aussi', 'austere', 'author', 'authorities', 'authority', 'authors', 'available', 'aveng', 'avoid', 'avoided', 'avouch', 'awake', 'awaking', 'away', 'awe', 'aweary', 'awhile', 'awl', 'awry', 'axe', 'ay', 'aye', 'ayry', 'babble', 'babbling', 'babe', 'baby', 'babylon', 'bachelor', 'back', 'backed', 'backs', 'backward', 'bad', 'bade', 'baffle', 'baffled', 'baggage', 'baily', 'bait', 'baited', 'baiting', 'bak', 'baker', 'bakes', 'baleful', 'balked', 'ball', 'balthasar', 'ban', 'bands', 'bandy', 'bandying', 'bang', 'banged', 'banish', 'banished', 'banishment', 'bank', 'bankrout', 'banks', 'banquet', 'banqueting', 'baptis', 'baptista', 'bar', 'barbarous', 'barbary', 'barber', 'bare', 'barefac', 'barefoot', 'barful', 'bargain', 'bark', 'barnardo', 'barr', 'barrel', 'barren', 'barricadoes', 'bars', 'base', 'based', 'baseness', 'baser', 'basest', 'basis', 'basket', 'baskets', 'bastard', 'bastardy', 'bat', 'bated', 'bath', 'bathe', 'bating', 'battalions', 'batten', 'battery', 'battle', 'battlements', 'battles', 'bauble', 'baubling', 'bawcock', 'bawd', 'bawdry', 'bawds', 'bawdy', 'bay', 'be', 'beads', 'beagle', 'beam', 'beams', 'bean', 'bear', 'beard', 'beards', 'bearer', 'bearers', 'bearing', 'bears', 'beast', 'beasts', 'beat', 'beaten', 'beating', 'beats', 'beauteous', 'beautied', 'beauties', 'beautified', 'beautiful', 'beautify', 'beauty', 'beaver', 'became', 'because', 'beck', 'beckons', 'become', 'becomed', 'becomes', 'bed', 'bedaub', 'bedded', 'bedeck', 'beds', 'beef', 'been', 'beer', 'bees', 'beetle', 'beetles', 'befall', 'befalls', 'befits', 'befitted', 'before', 'befriend', 'beg', 'began', 'beget', 'begg', 'beggar', 'beggarly', 'beggars', 'beggary', 'begged', 'begging', 'begin', 'beginners', 'beginning', 'begins', 'begone', 'begot', 'beguil', 'beguile', 'begun', 'behalf', 'behav', 'behaviors', 'behaviour', 'behests', 'behind', 'behold', 'beholding', 'behove', 'behoveful', 'behoves', 'being', 'belch', 'belie', 'belief', 'believe', 'believed', 'believes', 'believing', 'belike', 'bell', 'bellow', 'bellowed', 'bells', 'belong', 'belonging', 'belov', 'beloved', 'below', 'belzebub', 'bench', 'benches', 'bend', 'bended', 'bending', 'beneath', 'benedicite', 'benefice', 'benefit', 'benetted', 'bennet', 'bent', 'benvolio', 'bepaint', 'bequeathing', 'berattle', 'berhyme', 'bescreen', 'beseech', 'beseeming', 'beset', 'beshrew', 'beside', 'besides', 'besmear', 'besmirch', 'bespake', 'bespeak', 'best', 'bestial', 'bestow', 'bestowed', 'bestride', 'bestrides', 'bet', 'betake', 'beteem', 'bethink', 'bethought', 'betime', 'betimes', 'betoken', 'betossed', 'betray', 'betroth', 'better', 'betters', 'between', 'betwixt', 'bevy', 'beware', 'bewept', 'bewitched', 'beyond', 'bias', 'bibble', 'bid', 'bidding', 'biddy', 'bide', 'bids', 'bier', 'big', 'bigger', 'bilboes', 'billow', 'bills', 'binary', 'bind', 'bird', 'birds', 'birth', 'bisson', 'bit', 'bite', 'biter', 'bites', 'bitter', 'bitterly', 'blabs', 'black', 'blackest', 'bladders', 'blade', 'blades', 'blame', 'blank', 'blanket', 'blanks', 'blast', 'blasted', 'blasting', 'blastments', 'blasts', 'blaze', 'blazes', 'blazon', 'bleed', 'bleeding', 'bleeds', 'blemish', 'blench', 'blent', 'bles', 'bless', 'blessed', 'blessing', 'blessings', 'blest', 'blind', 'bliss', 'blister', 'blisters', 'bloat', 'blocks', 'blood', 'bloodily', 'bloodless', 'bloods', 'bloody', 'blossoms', 'blow', 'blown', 'blows', 'blubbering', 'blue', 'blunt', 'blunted', 'blurs', 'blush', 'blushing', 'board', 'boarded', 'boat', 'bodes', 'bodies', 'bodikin', 'bodiless', 'bodkin', 'body', 'boiled', 'boist', 'boisterous', 'bold', 'boldest', 'boldly', 'boldness', 'bolts', 'bond', 'bondage', 'bondman', 'bondmen', 'bonds', 'bone', 'bones', 'bonjour', 'bonnet', 'bonny', 'book', 'books', 'bootless', 'boots', 'bore', 'born', 'borne', 'borrow', 'borrower', 'borrowing', 'bosom', 'bosoms', 'botch', 'botcher', 'both', 'bottle', 'bottom', 'boughs', 'bought', 'bound', 'bounded', 'boundless', 'bounds', 'bounteous', 'bounteously', 'bounty', 'bourn', 'bout', 'bouts', 'bow', 'bowels', 'bower', 'bowers', 'bowl', 'box', 'boxes', 'boy', 'boys', 'brabble', 'brace', 'brag', 'braggart', 'brags', 'brain', 'brainish', 'brains', 'branched', 'branches', 'brands', 'brass', 'brav', 'brave', 'bravely', 'bravery', 'brawl', 'brawling', 'brawls', 'bray', 'braz', 'brazen', 'breach', 'breaches', 'bread', 'breadth', 'break', 'breaking', 'breaks', 'breast', 'breasted', 'breath', 'breathe', 'breathed', 'breathes', 'breathing', 'breathless', 'breaths', 'bred', 'breed', 'breeder', 'breeding', 'brevity', 'bribes', 'bridal', 'bride', 'bridegroom', 'brief', 'briefly', 'bright', 'brightness', 'brim', 'brimstone', 'brine', 'bring', 'bringing', 'brings', 'brisk', 'bristle', 'broad', 'brock', 'broke', 'broken', 'broker', 'brokers', 'brooch', 'brood', 'brook', 'brothel', 'brother', 'brotherhood', 'brothers', 'brought', 'brow', 'brownist', 'brows', 'bruit', 'brush', 'brute', 'brutish', 'brutus', 'bubbles', 'bucklers', 'bud', 'budge', 'buds', 'buffet', 'buffets', 'bugs', 'build', 'builds', 'built', 'bulk', 'bullets', 'bulwark', 'bum', 'bump', 'bung', 'burden', 'burial', 'buried', 'burn', 'burneth', 'burning', 'burns', 'burnt', 'burst', 'bury', 'burying', 'business', 'bustling', 'busy', 'but', 'butcher', 'butchers', 'butt', 'buttery', 'button', 'buttons', 'buy', 'buyer', 'buys', 'buzz', 'buzzers', 'buzzing', 'by', 'cabin', 'caesar', 'cage', 'cain', 'caitiff', 'caius', 'cakes', 'calamity', 'calculate', 'calculated', 'calendar', 'calf', 'call', 'called', 'calling', 'calls', 'calm', 'calmly', 'calphurnia', 'calumnious', 'calumny', 'calves', 'cam', 'came', 'camel', 'camp', 'can', 'canary', 'cancel', 'cancell', 'candied', 'candle', 'candles', 'candy', 'canker', 'cannon', 'cannoneer', 'cannons', 'cannot', 'canon', 'canoniz', 'canopied', 'canopy', 'canst', 'cantons', 'cap', 'capability', 'capable', 'capacity', 'capel', 'capels', 'caper', 'capilet', 'capital', 'capitol', 'capons', 'caps', 'captain', 'captains', 'captive', 'captives', 'captivity', 'capulet', 'capulets', 'car', 'carbuncles', 'carcass', 'card', 'care', 'careful', 'carefully', 'careless', 'carelessly', 'cares', 'carnal', 'carouses', 'carp', 'carpenter', 'carpet', 'carriage', 'carriages', 'carried', 'carries', 'carrion', 'carrions', 'carry', 'carrying', 'cars', 'cart', 'carters', 'carve', 'casca', 'case', 'cases', 'cassius', 'cast', 'castle', 'casual', 'cat', 'cataian', 'cataplasm', 'catch', 'catcher', 'catches', 'catching', 'catechize', 'caterwauling', 'catling', 'cato', 'cats', 'caught', 'cause', 'causes', 'cautel', 'cautelous', 'caution', 'cave', 'cavern', 'caves', 'caviare', 'cease', 'ceases', 'celebrated', 'celebration', 'celestial', 'cell', 'cellarage', 'censure', 'centre', 'cerements', 'ceremonies', 'ceremony', 'certain', 'certainty', 'cesario', 'chafing', 'chain', 'chair', 'chalice', 'challenge', 'challenged', 'challenger', 'chamber', 'chamberlain', 'chambermaids', 'chameleon', 'champian', 'chanc', 'chance', 'chances', 'chang', 'change', 'changeable', 'changed', 'changeling', 'changes', 'channel', 'chanson', 'chant', 'chantry', 'chaos', 'chapel', 'chapless', 'chapter', 'character', 'charactery', 'charge', 'charges', 'charging', 'chariest', 'chariot', 'charitable', 'charities', 'charity', 'charm', 'charnel', 'chase', 'chaste', 'chastisement', 'chastity', 'chat', 'chaunted', 'check', 'checking', 'checks', 'cheek', 'cheeks', 'cheer', 'cheerful', 'cheerfully', 'cheering', 'cheerly', 'cheers', 'chequering', 'cherish', 'cherishing', 'cherry', 'cherub', 'chev', 'cheveril', 'chew', 'chidd', 'chidden', 'chide', 'chides', 'chief', 'chiefest', 'chiefly', 'child', 'childhood', 'childish', 'children', 'chimney', 'chin', 'chinks', 'choice', 'chok', 'choked', 'choking', 'choler', 'choleric', 'choose', 'chop', 'chopine', 'chopp', 'chopt', 'chorus', 'chose', 'chough', 'christian', 'christians', 'chronicles', 'chuck', 'church', 'churches', 'churchman', 'churchyard', 'churchyards', 'churl', 'churlish', 'cicatrice', 'cicero', 'cimber', 'cinna', 'circle', 'circled', 'circumscrib', 'circumstance', 'circumstances', 'circumvent', 'citizen', 'citizens', 'city', 'civil', 'clad', 'claim', 'clamb', 'clamorous', 'clamour', 'clamours', 'clap', 'clapp', 'clapped', 'claps', 'clasps', 'claudio', 'claudius', 'clause', 'claw', 'clay', 'clean', 'clear', 'clearly', 'clears', 'cleave', 'cleft', 'clemency', 'cleopatra', 'clepe', 'clerestories', 'cliff', 'climate', 'climatures', 'climb', 'climber', 'climbs', 'clitus', 'cloak', 'cloaks', 'clock', 'clodpole', 'clog', 'cloistress', 'clos', 'close', 'closely', 'closes', 'closet', 'clothe', 'clothes', 'cloud', 'clouds', 'cloudy', 'clout', 'clouts', 'clown', 'clowns', 'cloyment', 'club', 'clubs', 'clutch', 'cnidos', 'co', 'coach', 'coachmakers', 'coagulate', 'coals', 'coast', 'coated', 'coats', 'cobble', 'cobbler', 'cock', 'cockatrice', 'cockatrices', 'cockerel', 'cockle', 'cockney', 'codes', 'codling', 'coffer', 'coffers', 'coffin', 'cogitations', 'cognizance', 'cohere', 'coil', 'coin', 'coinage', 'cold', 'coldly', 'collar', 'collars', 'collateral', 'colleagued', 'collected', 'collection', 'collier', 'colliers', 'colossus', 'colour', 'colours', 'columbines', 'com', 'combat', 'combated', 'combin', 'combination', 'combine', 'combined', 'come', 'comedian', 'comedy', 'comes', 'comest', 'comets', 'comfort', 'comfortable', 'comforted', 'comical', 'coming', 'comma', 'command', 'commanded', 'commanders', 'commandment', 'commands', 'commencement', 'commend', 'commendable', 'commendation', 'commended', 'comment', 'commerce', 'commercial', 'commission', 'commit', 'committed', 'commodity', 'common', 'commoners', 'commons', 'commonwealth', 'commune', 'commutual', 'compact', 'companies', 'companion', 'companions', 'company', 'compare', 'compass', 'compel', 'compell', 'compelled', 'competent', 'competitors', 'compilation', 'complain', 'complainest', 'complete', 'complexion', 'compliance', 'compliment', 'compliments', 'comply', 'complying', 'compos', 'compost', 'compound', 'compounded', 'compounds', 'compressed', 'comptible', 'compulsatory', 'compulsive', 'computer', 'computers', 'comrade', 'con', 'concave', 'conceal', 'concealment', 'conceit', 'conceited', 'conceiv', 'conceive', 'concept', 'conception', 'conceptions', 'concernancy', 'concerning', 'concernings', 'concerns', 'concluded', 'concludes', 'conclusion', 'conclusions', 'concurs', 'condemn', 'condemned', 'condition', 'conditions', 'condolement', 'conduct', 'conduit', 'confederate', 'conference', 'confess', 'confession', 'confessor', 'confidence', 'confin', 'confine', 'confines', 'confirm', 'confirmation', 'confirmed', 'confirms', 'confound', 'confounded', 'confounds', 'confront', 'confusion', 'confusions', 'congregation', 'conjectures', 'conjoin', 'conjointly', 'conjunctive', 'conjur', 'conjuration', 'conjure', 'conjures', 'conjuring', 'conn', 'conquer', 'conqueror', 'conquerors', 'conquest', 'conquests', 'cons', 'consanguineous', 'conscience', 'consecrated', 'consent', 'consents', 'consequence', 'consequential', 'consequently', 'consider', 'considerable', 'consideration', 'considered', 'considering', 'consist', 'consists', 'consonancy', 'consort', 'consorted', 'consortest', 'consorts', 'conspiracy', 'conspirator', 'conspirators', 'conspires', 'constable', 'constancy', 'constant', 'constantly', 'constellation', 'conster', 'constitution', 'constrain', 'constrained', 'constrains', 'construction', 'construe', 'consum', 'consume', 'consummation', 'contact', 'contagion', 'contagious', 'contain', 'containing', 'contaminate', 'contemned', 'contemplation', 'contemplative', 'contempt', 'contend', 'content', 'contented', 'contents', 'continent', 'continual', 'continuance', 'continue', 'contract', 'contracted', 'contraction', 'contradict', 'contrary', 'contribution', 'contributions', 'contrive', 'contriver', 'contriving', 'control', 'controversy', 'contumely', 'convenience', 'conveniently', 'convents', 'conversation', 'converse', 'convert', 'converted', 'convey', 'conveyance', 'conveyances', 'convocation', 'convoy', 'cook', 'cooks', 'cool', 'cooling', 'cop', 'cophetua', 'copied', 'copies', 'copy', 'copying', 'copyright', 'coranto', 'cordial', 'cords', 'core', 'cornelius', 'corner', 'corns', 'coronation', 'coroner', 'coronet', 'coronets', 'corporal', 'corporation', 'corpse', 'corrupt', 'corrupted', 'corrupter', 'corruption', 'corse', 'corses', 'cost', 'costly', 'costs', 'cot', 'coted', 'couch', 'couched', 'couchings', 'coughing', 'could', 'couldst', 'council', 'counsel', 'counsellor', 'counsels', 'count', 'countenance', 'counter', 'counterfeit', 'counterfeits', 'counters', 'countervail', 'countess', 'countries', 'country', 'countryman', 'countrymen', 'counts', 'county', 'couple', 'couplet', 'couplets', 'courage', 'courageous', 'course', 'courses', 'court', 'courteous', 'courtesies', 'courtesy', 'courtier', 'courtiers', 'courts', 'courtship', 'cousin', 'cov', 'cover', 'covert', 'covetous', 'covetousness', 'coward', 'cowardice', 'cowardly', 'cowards', 'cowardship', 'coxcomb', 'coystril', 'coz', 'cozen', 'cozenage', 'coziers', 'crab', 'crack', 'cracked', 'cracking', 'cracks', 'craft', 'crafts', 'crafty', 'cram', 'crammed', 'crash', 'crave', 'craven', 'craves', 'crawling', 'create', 'created', 'creating', 'creation', 'creature', 'creatures', 'credent', 'credit', 'creep', 'crept', 'crescent', 'cressida', 'crests', 'crew', 'crib', 'cricket', 'cried', 'criedst', 'crier', 'cries', 'crimeful', 'crimes', 'crimson', 'critical', 'croaking', 'crocodile', 'crook', 'crooked', 'cross', 'crossing', 'crotchets', 'crouch', 'crow', 'crowd', 'crowing', 'crown', 'crowned', 'crowner', 'crowns', 'crows', 'cruel', 'cruelty', 'crumbs', 'crush', 'crust', 'crutch', 'cry', 'crying', 'crystal', 'cub', 'cubiculo', 'cuckold', 'cudgel', 'cue', 'cuff', 'cuffs', 'cull', 'culling', 'cumber', 'cunning', 'cunnings', 'cup', 'cupboard', 'cupid', 'cups', 'cur', 'curate', 'curb', 'curd', 'cure', 'cures', 'curfew', 'curio', 'curious', 'curiously', 'curl', 'curls', 'current', 'currents', 'curse', 'cursed', 'cursing', 'curst', 'curtain', 'curtains', 'curtsies', 'curtsy', 'cushions', 'custom', 'customary', 'cut', 'cutpurse', 'cuts', 'cutt', 'cutting', 'cyclops', 'cynic', 'cynthia', 'cypress', 'dad', 'dagger', 'daggers', 'daily', 'daintier', 'dainty', 'daisies', 'daisy', 'dalliance', 'dallies', 'dally', 'dallying', 'dam', 'damage', 'damaged', 'damages', 'damask', 'damn', 'damnable', 'damnation', 'damned', 'damon', 'danc', 'dance', 'dancing', 'dane', 'danes', 'danger', 'dangerous', 'dangers', 'danish', 'dank', 'danskers', 'dar', 'dardanius', 'dare', 'dared', 'dares', 'dark', 'darkest', 'darkly', 'darkness', 'darting', 'darts', 'dash', 'dashing', 'data', 'date', 'dateless', 'dates', 'daughter', 'daughters', 'dawning', 'daws', 'day', 'daylight', 'days', 'de', 'dead', 'deadly', 'deaf', 'deal', 'dealer', 'dealing', 'dealt', 'dear', 'dearer', 'dearest', 'dearly', 'dearth', 'death', 'deathbed', 'deaths', 'debate', 'debatement', 'debt', 'decay', 'decayer', 'decays', 'deceas', 'deceit', 'deceitful', 'deceiv', 'deceivable', 'deceived', 'december', 'decius', 'deck', 'declension', 'decline', 'declines', 'declining', 'decree', 'decreed', 'dedicate', 'dedication', 'deductible', 'deed', 'deeds', 'deem', 'deep', 'deeply', 'deer', 'defeat', 'defeated', 'defeats', 'defect', 'defective', 'defects', 'defence', 'defend', 'defiance', 'define', 'definement', 'deflowered', 'deform', 'deformities', 'defy', 'degree', 'degrees', 'deity', 'deject', 'dejected', 'delay', 'delays', 'deletions', 'deliberate', 'delicate', 'deliciousness', 'delight', 'delights', 'deliver', 'delivered', 'delivers', 'delve', 'delver', 'demand', 'demanded', 'demands', 'demeanor', 'demesnes', 'demi', 'demonstrated', 'demure', 'den', 'denay', 'denial', 'denied', 'denies', 'denmark', 'denote', 'deny', 'denying', 'depart', 'departed', 'depend', 'depends', 'deplore', 'depriv', 'deprive', 'depth', 'derivative', 'derive', 'derived', 'derives', 'descend', 'descends', 'descent', 'describ', 'described', 'descry', 'desert', 'deserts', 'deserv', 'deserve', 'deserved', 'design', 'desir', 'desire', 'desires', 'desirest', 'desiring', 'desirous', 'desk', 'despair', 'despatch', 'desperate', 'desperation', 'despis', 'despised', 'despite', 'destroy', 'destruction', 'detach', 'detecting', 'determinate', 'determination', 'determine', 'determined', 'detestable', 'detested', 'detests', 'detraction', 'device', 'devices', 'devil', 'devils', 'devis', 'devise', 'devotion', 'devoured', 'devouring', 'devout', 'devoutly', 'dew', 'dews', 'dexteriously', 'dexterity', 'diadem', 'dial', 'dialogue', 'diameter', 'dian', 'diana', 'dianne', 'dicers', 'dick', 'diction', 'did', 'dido', 'didst', 'die', 'died', 'dies', 'dies_', 'diest', 'diet', 'difference', 'differences', 'different', 'dig', 'digest', 'digested', 'digg', 'diggers', 'digging', 'dignified', 'dignities', 'dignity', 'digressing', 'dilated', 'dild', 'diligence', 'dim', 'dimension', 'dine', 'dined', 'dinner', 'dint', 'dip', 'dipping', 'dire', 'direct', 'direction', 'directions', 'directly', 'director', 'direful', 'dirge', 'dirges', 'dirt', 'dirty', 'disappointed', 'disasters', 'discard', 'discern', 'discharg', 'disclaim', 'disclaimer', 'disclaimers', 'disclaiming', 'disclos', 'disclose', 'discolour', 'discomfort', 'disconsolate', 'discontinue', 'discord', 'discords', 'discourse', 'discourses', 'discover', 'discovered', 'discovers', 'discovery', 'discreet', 'discretion', 'disease', 'diseased', 'diseases', 'disgrace', 'disgraced', 'disguis', 'disguise', 'dish', 'dishclout', 'dishes', 'dishonest', 'dishonesty', 'dishonour', 'dishonourable', 'disjoins', 'disjoint', 'disk', 'dislike', 'dismal', 'dismantled', 'dismay', 'dismember', 'dismiss', 'dismount', 'disobedient', 'disorders', 'disparagement', 'dispatch', 'disperse', 'displant', 'display', 'displayed', 'displaying', 'displeas', 'displeased', 'displeasure', 'dispos', 'dispose', 'disposed', 'disposing', 'disposition', 'dispossess', 'dispraise', 'dispriz', 'disprove', 'dispute', 'disputes', 'disrobe', 'dissemble', 'dissembled', 'dissemblers', 'dissembling', 'distaff', 'distance', 'distant', 'distemper', 'distemperature', 'distempered', 'distill', 'distilled', 'distilment', 'distinction', 'distinguish', 'distract', 'distracted', 'distractedly', 'distraction', 'distraught', 'distress', 'distressed', 'distribute', 'distributed', 'distributing', 'distribution', 'distributor', 'distrust', 'disturb', 'disturbed', 'ditchers', 'divers', 'divide', 'divided', 'divideth', 'divine', 'divinest', 'divining', 'divinity', 'division', 'divorced', 'divulg', 'divulging', 'dizzy', 'do', 'doctor', 'doctrine', 'document', 'doer', 'doers', 'does', 'doff', 'dog', 'dogged', 'dogs', 'doing', 'dole', 'doleful', 'dolphin', 'domain', 'domestic', 'dominions', 'donate', 'donation', 'donations', 'done', 'donn', 'donors', 'doom', 'doomsday', 'door', 'doors', 'dormouse', 'dost', 'dote', 'dotes', 'doth', 'doting', 'double', 'doublet', 'doubt', 'doubted', 'doubtful', 'doubts', 'douts', 'dove', 'dovehouse', 'doves', 'dowdy', 'down', 'downloading', 'downright', 'downward', 'dowry', 'dozen', 'dr', 'drab', 'drabbing', 'drachmas', 'drag', 'dragg', 'dragging', 'dragon', 'drains', 'dram', 'dramatis', 'draught', 'draughts', 'drave', 'draw', 'drawer', 'drawing', 'drawn', 'draws', 'dread', 'dreaded', 'dreadful', 'dreadfully', 'dream', 'dreamer', 'dreamers', 'dreams', 'dreamt', 'dress', 'dressed', 'drew', 'dried', 'drier', 'drift', 'drink', 'drinking', 'drinks', 'drive', 'drivelling', 'driven', 'drives', 'driveth', 'driving', 'drizzle', 'drizzled', 'drooping', 'drop', 'dropp', 'dropped', 'dropping', 'droppings', 'drops', 'drossy', 'drown', 'drowned', 'drowns', 'drowsily', 'drowsy', 'drudge', 'drugs', 'drum', 'drums', 'drunk', 'drunkard', 'drunkards', 'drunken', 'drunkenness', 'dry', 'dst', 'dubbed', 'ducat', 'ducats', 'due', 'duellist', 'duello', 'dug', 'duke', 'dulcet', 'dull', 'duller', 'dulls', 'dumb', 'dumbness', 'dump', 'dumps', 'dun', 'dungeon', 'dungeons', 'dupp', 'durance', 'during', 'durst', 'dust', 'dutchman', 'duties', 'duty', 'dwell', 'dwelling', 'dwells', 'dwelt', 'dye', 'dying', 'each', 'eager', 'eagerly', 'eagle', 'eagles', 'ear', 'earl', 'earlier', 'earliness', 'early', 'earned', 'earnest', 'ears', 'earth', 'earthen', 'earthly', 'earthquake', 'ease', 'easier', 'easily', 'easiness', 'easing', 'east', 'easter', 'eastern', 'eastward', 'easy', 'eat', 'eaten', 'eater', 'eating', 'eats', 'ebb', 'ebony', 'ebook', 'ebooks', 'echo', 'eclipse', 'ecstacy', 'ecstasy', 'edge', 'edified', 'edition', 'editions', 'educational', 'effect', 'effects', 'effeminate', 'effort', 'efforts', 'egg', 'eggshell', 'egyptian', 'egyptians', 'eight', 'eighth', 'ein', 'eisel', 'either', 'elbows', 'elder', 'elders', 'eldest', 'elect', 'election', 'electronic', 'electronically', 'element', 'elements', 'elephant', 'elephants', 'eleven', 'elf', 'ell', 'eloquence', 'eloquent', 'else', 'elsinore', 'elysium', 'em', 'email', 'embark', 'embassy', 'embrace', 'embracing', 'emperor', 'emphasis', 'empire', 'employ', 'employee', 'employees', 'employment', 'empty', 'emulate', 'emulation', 'en', 'enact', 'enactures', 'enanmour', 'encamp', 'enchantment', 'enclos', 'enclosed', 'encoding', 'encompass', 'encompassment', 'encounter', 'encourag', 'encumber', 'end', 'endart', 'endeavour', 'ended', 'ending', 'endite', 'ends', 'endue', 'endur', 'endure', 'enemies', 'enemy', 'enforc', 'enforce', 'enforced', 'enfranchisement', 'engag', 'engagements', 'engender', 'enginer', 'england', 'english', 'engrossing', 'enjoin', 'enjoy', 'enkindled', 'enlarg', 'enlarge', 'enmity', 'enough', 'enpierced', 'enquire', 'enraged', 'enrich', 'enroll', 'enseamed', 'ensign', 'ensuring', 'enter', 'enterprise', 'enterprises', 'enters', 'entertain', 'entertainment', 'entire', 'entity', 'entrails', 'entrance', 'entreat', 'entreated', 'entreatments', 'entreaty', 'envenom', 'envenomed', 'envious', 'enviously', 'environed', 'envy', 'enwraps', 'epicurus', 'epistles', 'epitaph', 'equal', 'equinoctial', 'equipment', 'equivocation', 'er', 'erbears', 'ercame', 'erdoing', 'ere', 'erebus', 'erflourished', 'ergrowth', 'erhanging', 'erhasty', 'erhear', 'erleavens', 'ermaster', 'erperch', 'err', 'errand', 'errands', 'errest', 'erring', 'error', 'errors', 'errule', 'ershot', 'ersized', 'erstep', 'ersway', 'ersways', 'erswell', 'erteemed', 'erthrown', 'ertook', 'ertop', 'eruption', 'eruptions', 'erweigh', 'erwhelm', 'es', 'escalus', 'escape', 'escoted', 'especial', 'especially', 'espials', 'essentially', 'establish', 'estate', 'esteem', 'estimable', 'estimation', 'et', 'eternal', 'eterne', 'eternity', 'etext', 'ethiop', 'eunuch', 'eve', 'even', 'evening', 'event', 'events', 'ever', 'everlasting', 'evermore', 'every', 'everyone', 'everything', 'everywhere', 'evidence', 'evident', 'evil', 'evils', 'exact', 'exactly', 'exalted', 'examine', 'example', 'examples', 'exasperate', 'exceed', 'exceeding', 'exceedingly', 'excellence', 'excellencies', 'excellent', 'excellently', 'excels', 'except', 'excepted', 'exception', 'exceptions', 'excess', 'exchange', 'excitements', 'excites', 'exclaim', 'exclusion', 'excrements', 'excus', 'excuse', 'excuses', 'executed', 'execution', 'executive', 'exempt', 'exercise', 'exercises', 'exeunt', 'exhalations', 'exhales', 'exhort', 'exigent', 'exil', 'exile', 'exists', 'exits', 'exorcist', 'expect', 'expectancy', 'expectation', 'expects', 'expedition', 'expel', 'expend', 'expense', 'expenses', 'experienc', 'expire', 'explanation', 'exploit', 'exporting', 'expose', 'exposing', 'exposition', 'expostulate', 'expounded', 'express', 'expressly', 'expressure', 'exquisite', 'extant', 'extend', 'extent', 'extenuated', 'exterior', 'extinct', 'extolment', 'extort', 'extorted', 'extracting', 'extravagancy', 'extravagant', 'extreme', 'extremes', 'extremities', 'extremity', 'exult', 'ey', 'eyases', 'eye', 'eyeless', 'eyelids', 'eyes', 'eyesight', 'fa', 'fabian', 'face', 'faced', 'faces', 'facility', 'facit', 'faction', 'factious', 'faculties', 'fade', 'faded', 'fadge', 'fadoms', 'fail', 'fails', 'fain', 'faint', 'faintly', 'fair', 'fairbanks', 'fairer', 'fairest', 'fairies', 'fairly', 'fairy', 'faith', 'faithful', 'faithfull', 'faithfully', 'falconer', 'falconers', 'fall', 'fallen', 'falling', 'falls', 'false', 'falsehood', 'falsely', 'falser', 'fam', 'fame', 'familiar', 'family', 'famine', 'famous', 'fan', 'fancies', 'fancy', 'fang', 'fangs', 'fanned', 'fantasies', 'fantastic', 'fantastical', 'fantastically', 'fantasy', 'far', 'fardels', 'fare', 'fares', 'farewell', 'farm', 'farther', 'farthest', 'fashion', 'fast', 'fasten', 'faster', 'fat', 'fatal', 'fate', 'fates', 'father', 'fathers', 'fathom', 'fatness', 'fatted', 'fatter', 'fault', 'faults', 'favour', 'favoured', 'favourite', 'favours', 'fawn', 'fawning', 'fay', 'fear', 'fearful', 'fearfully', 'fearfulness', 'fearing', 'fears', 'feast', 'feasting', 'feather', 'feathers', 'feats', 'feature', 'february', 'fed', 'federal', 'fee', 'feeble', 'feed', 'feeding', 'feeds', 'feel', 'feeling', 'feelingly', 'feels', 'fees', 'feet', 'feign', 'feigned', 'feigning', 'felicity', 'fell', 'fellies', 'fellow', 'fellows', 'fellowship', 'felon', 'felt', 'female', 'fence', 'fencer', 'fencing', 'fennel', 'ferret', 'fertile', 'fervour', 'feste', 'festering', 'festival', 'fetch', 'fetter', 'fetters', 'fettle', 'feud', 'fever', 'few', 'fickle', 'fiction', 'fiddlestick', 'fie', 'field', 'fields', 'fiend', 'fiends', 'fierce', 'fiery', 'fifteen', 'fifth', 'fifty', 'fight', 'fighter', 'fighting', 'fights', 'figure', 'figures', 'file', 'filed', 'files', 'filial', 'fill', 'film', 'financial', 'find', 'finder', 'finding', 'finds', 'fine', 'finer', 'fines', 'finger', 'fingers', 'finished', 'fir', 'firago', 'fire', 'firebrands', 'fires', 'firm', 'firmament', 'first', 'fish', 'fisher', 'fishes', 'fishified', 'fishmonger', 'fit', 'fitness', 'fits', 'fitted', 'fitting', 'five', 'fix', 'fixed', 'flag', 'flagon', 'flame', 'flames', 'flaming', 'flash', 'flashes', 'flask', 'flat', 'flats', 'flatter', 'flattered', 'flatterer', 'flatterers', 'flattering', 'flattery', 'flavius', 'flaw', 'flax', 'flaxen', 'flea', 'fleckled', 'fled', 'fleer', 'fleering', 'fleet', 'flesh', 'fleshed', 'flies', 'flights', 'flint', 'flints', 'flirt', 'flock', 'flood', 'flourish', 'flourishes', 'flow', 'flowed', 'flower', 'flowered', 'flowering', 'flowers', 'flush', 'flushing', 'fly', 'foam', 'foamy', 'foe', 'foes', 'fog', 'foh', 'foil', 'foils', 'fold', 'folded', 'folk', 'folks', 'follow', 'followed', 'follower', 'followers', 'following', 'follows', 'folly', 'fond', 'food', 'fool', 'foolery', 'fooling', 'foolish', 'fools', 'foot', 'footed', 'for', 'forbear', 'forbid', 'forc', 'force', 'forced', 'forces', 'forcing', 'fordo', 'fordoes', 'fore', 'forefathers', 'forehead', 'foreign', 'foreknowing', 'foreknowledge', 'foremost', 'forerun', 'foresaid', 'forest', 'forestall', 'forestalled', 'forever', 'forfeit', 'forg', 'forgave', 'forged', 'forgeries', 'forgery', 'forget', 'forgetful', 'forgets', 'forgetting', 'forgive', 'forgiveness', 'forgone', 'forgot', 'forgotten', 'form', 'formal', 'format', 'formats', 'formed', 'former', 'forms', 'forsaken', 'forsooth', 'forswear', 'forsworn', 'forth', 'forthwith', 'fortified', 'fortinbras', 'fortnight', 'forts', 'fortunate', 'fortune', 'fortunes', 'forty', 'forum', 'forward', 'fought', 'foul', 'found', 'foundation', 'fountain', 'fountains', 'four', 'fourteen', 'fourth', 'fox', 'frail', 'frailty', 'frame', 'france', 'francis', 'franciscan', 'francisco', 'frank', 'frankly', 'fraught', 'fray', 'free', 'freedom', 'freely', 'freeman', 'freeze', 'freezes', 'french', 'frenchman', 'frenzy', 'fresh', 'fret', 'fretful', 'fretted', 'friar', 'friend', 'friending', 'friendly', 'friends', 'friendship', 'fright', 'frighted', 'frock', 'from', 'front', 'frontier', 'frost', 'frown', 'frowning', 'frowningly', 'frowns', 'frozen', 'fruit', 'fruitful', 'fruitless', 'fruits', 'fulfill', 'full', 'fuller', 'fulsome', 'fume', 'function', 'functions', 'funeral', 'funerals', 'furious', 'furnish', 'further', 'fury', 'fust', 'fustian', 'future', 'gabble', 'gadding', 'gaged', 'gagged', 'gain', 'gainst', 'gait', 'gall', 'gallant', 'galled', 'gallery', 'galleys', 'galliard', 'gallop', 'gallops', 'gallows', 'galls', 'gambol', 'gambols', 'gamboys', 'game', 'games', 'gamesome', 'gaming', 'gape', 'gapes', 'garb', 'garbage', 'garde', 'garden', 'gardeners', 'garish', 'garland', 'garlands', 'garments', 'garrison', 'garter', 'gartered', 'gartering', 'gaskins', 'gate', 'gates', 'gather', 'gaudy', 'gav', 'gave', 'gaze', 'gbnewby', 'gear', 'geck', 'gem', 'gems', 'gender', 'general', 'generals', 'generations', 'generous', 'genius', 'gentle', 'gentleman', 'gentlemanlike', 'gentlemen', 'gentleness', 'gentler', 'gentlewoman', 'gentlewomen', 'gently', 'gentry', 'german', 'gertrude', 'gestures', 'get', 'gets', 'ghastly', 'ghost', 'ghostly', 'ghosts', 'gi', 'giant', 'gib', 'gibber', 'gibes', 'giddily', 'giddy', 'gift', 'gifts', 'gilded', 'gills', 'gilt', 'gin', 'ginger', 'gins', 'girdle', 'girl', 'girls', 'gis', 'give', 'given', 'givers', 'gives', 'giving', 'glad', 'gladly', 'glanced', 'glared', 'glares', 'glass', 'glasses', 'glassy', 'glean', 'gleaned', 'gleek', 'glides', 'gliding', 'glimpses', 'globe', 'glooming', 'glories', 'glorious', 'glory', 'glove', 'glow', 'gnat', 'go', 'goals', 'goblin', 'goblins', 'god', 'godlike', 'godliness', 'gods', 'goes', 'going', 'gold', 'golden', 'gone', 'gonzago', 'gonzago_', 'good', 'goodly', 'goodman', 'goodness', 'goodnight', 'goose', 'gorboduc', 'gore', 'gorg', 'gorge', 'gorgeous', 'gorging', 'gory', 'gospels', 'gossamers', 'gossip', 'gossips', 'got', 'govern', 'government', 'governs', 'gown', 'grace', 'graces', 'gracious', 'grain', 'grained', 'grand', 'grandam', 'grandsire', 'grant', 'granted', 'grapple', 'grasped', 'grass', 'grasshoppers', 'gratefully', 'gratillity', 'grating', 'gratis', 'grave', 'graveness', 'graves', 'gravity', 'graze', 'great', 'greater', 'greatest', 'greatly', 'greatness', 'greek', 'greeks', 'green', 'greenly', 'greet', 'greeted', 'greeting', 'greetings', 'greets', 'gregory', 'grew', 'grey', 'grief', 'griefs', 'griev', 'grievance', 'grievances', 'grieve', 'grieved', 'grieves', 'grievous', 'grievously', 'grinding', 'grindstone', 'grinning', 'griping', 'grize', 'grizzle', 'grizzled', 'groan', 'groaning', 'groans', 'grop', 'gross', 'grosser', 'grossly', 'grossness', 'ground', 'groundlings', 'grounds', 'group', 'grove', 'grow', 'growing', 'grown', 'grows', 'grub', 'grubs', 'grudg', 'grudge', 'grunt', 'guard', 'guarded', 'guards', 'guess', 'guest', 'guests', 'guide', 'guildenstern', 'guildenstern_', 'guilt', 'guiltiness', 'guiltless', 'guilty', 'gules', 'gulf', 'gull', 'gum', 'gun', 'gust', 'gusty', 'gutenberg', 'guts', 'gypsy', 'gyved', 'gyves', 'ha', 'habit', 'habits', 'hack', 'had', 'hadst', 'hag', 'haggard', 'hail', 'hair', 'hairs', 'hale', 'half', 'halfpenny', 'hall', 'hallow', 'halt', 'halting', 'hamlet', 'hammers', 'hams', 'hand', 'handiwork', 'handmaid', 'hands', 'handsaw', 'handsome', 'hang', 'hanged', 'hangers', 'hanging', 'hangs', 'hap', 'haply', 'happen', 'happily', 'happiness', 'happy', 'haps', 'harbingers', 'harbours', 'hard', 'hardly', 'hardy', 'hare', 'hark', 'harlot', 'harlotry', 'harlots', 'harm', 'harmless', 'harmony', 'harping', 'harrow', 'harrows', 'harsh', 'harshly', 'hart', 'harvest', 'has', 'hast', 'haste', 'hasten', 'hastes', 'hasty', 'hat', 'hatch', 'hatchment', 'hate', 'hated', 'hateful', 'hates', 'hath', 'hatred', 'hats', 'haughty', 'haunt', 'have', 'having', 'haviour', 'havoc', 'hawk', 'hay', 'hazard', 'hazards', 'hazel', 'hazelnut', 'he', 'head', 'headed', 'heads', 'headstrong', 'health', 'healthful', 'healths', 'healthsome', 'heap', 'hear', 'heard', 'hearer', 'hearers', 'heareth', 'hearing', 'hears', 'hearse', 'hearsed', 'heart', 'hearted', 'heartily', 'heartless', 'hearts', 'heartsick', 'heat', 'heathen', 'heaven', 'heavenly', 'heavens', 'heaves', 'heavily', 'heaviness', 'heavy', 'hebenon', 'hecate', 'hectic', 'hecuba', 'hedge', 'heed', 'heedful', 'heel', 'heels', 'height', 'heir', 'heirs', 'held', 'helen', 'helena', 'hell', 'hellish', 'help', 'helpful', 'helps', 'hems', 'hence', 'henceforth', 'henceforward', 'hent', 'her', 'herald', 'heraldry', 'heralds', 'herb', 'herbs', 'hercules', 'herd', 'here', 'hereabout', 'hereabouts', 'hereafter', 'herein', 'heresy', 'heretics', 'hermit', 'hero', 'herod', 'herods', 'heroes', 'herring', 'herrings', 'hers', 'herself', 'herself_', 'hew', 'hey', 'hid', 'hidden', 'hide', 'hideous', 'hides', 'hie', 'hies', 'high', 'higher', 'highest', 'highly', 'highmost', 'highness', 'highway', 'hilding', 'hildings', 'hill', 'hillo', 'hills', 'hilts', 'him', 'himself', 'himself_', 'hinder', 'hinds', 'hinges', 'hire', 'his', 'hiss', 'hist', 'historical', 'history', 'hit', 'hither', 'hitherto', 'hits', 'ho', 'hoar', 'hoars', 'hoarse', 'hoary', 'hob', 'hobby', 'hoist', 'hold', 'holder', 'holding', 'holds', 'hole', 'holes', 'holidame', 'holiday', 'holla', 'hollow', 'holp', 'holy', 'homage', 'home', 'homely', 'honest', 'honestly', 'honesty', 'honey', 'honeying', 'honeyless', 'honour', 'honourable', 'honourably', 'honoured', 'honours', 'hood', 'hoodman', 'hoodwink', 'hooks', 'hoop', 'hoops', 'hooted', 'hooting', 'hop', 'hope', 'hopeful', 'hopes', 'hoping', 'horatio', 'horrible', 'horribly', 'horrid', 'horridly', 'horrors', 'horse', 'horseback', 'horsemen', 'horses', 'host', 'hot', 'hounds', 'hour', 'hourly', 'hours', 'house', 'households', 'housekeeper', 'houses', 'housewife', 'houswife', 'hover', 'how', 'howe', 'however', 'howling', 'howlings', 'howsoever', 'http', 'https', 'hue', 'hug', 'huge', 'hugger', 'hugh', 'hull', 'hum', 'humanity', 'humble', 'humbly', 'humorous', 'humour', 'humours', 'hundred', 'hundreds', 'hung', 'hungry', 'hunt', 'hunter', 'hunters', 'hunting', 'hunts', 'hurdle', 'hurl', 'hurling', 'hurry', 'hurt', 'hurtled', 'hurts', 'husband', 'husbanded', 'husbandry', 'husbands', 'hush', 'hushes', 'hybla', 'hymen', 'hymns', 'hyperbolical', 'hyperion', 'hypertext', 'hypocrite', 'hypocrites', 'hyrcanian', 'ice', 'icicle', 'identification', 'identify', 'ides', 'idiot', 'idle', 'idleness', 'idles', 'idol', 'idolatry', 'if', 'ignorance', 'ignorant', 'ii', 'iii', 'ilium', 'ill', 'illo', 'ills', 'illume', 'illuminate', 'illusion', 'illyria', 'image', 'images', 'imagin', 'imagination', 'imaginations', 'imagine', 'imitate', 'imitated', 'imitations', 'immediate', 'immediately', 'imminent', 'immoderately', 'immortal', 'impart', 'impartment', 'impasted', 'impatience', 'impatient', 'impatiently', 'impeach', 'imperfections', 'imperial', 'imperious', 'impeticos', 'impetuosity', 'impetuous', 'impious', 'implacable', 'implements', 'implied', 'implorators', 'imponed', 'import', 'importance', 'important', 'importing', 'imports', 'importun', 'importunate', 'importunity', 'imposed', 'impossible', 'imposthume', 'impotence', 'impotent', 'impress', 'impression', 'impressure', 'imprison', 'improbable', 'improve', 'imputation', 'impute', 'in', 'inaccurate', 'inauspicious', 'incapable', 'incardinate', 'incens', 'incensed', 'incensement', 'incenses', 'incertain', 'incest', 'incestuous', 'inch', 'incidental', 'incites', 'inclin', 'inclination', 'inclining', 'include', 'included', 'includes', 'including', 'incomplete', 'inconstant', 'incontinency', 'incorporal', 'incorporate', 'incorps', 'incorrect', 'increase', 'increaseth', 'increasing', 'incredulous', 'indeed', 'indemnify', 'indemnity', 'indentures', 'index', 'india', 'indicate', 'indicating', 'indies', 'indifferent', 'indifferently', 'indignation', 'indirect', 'indirection', 'indirections', 'indirectly', 'indiscretion', 'indite', 'individable', 'individual', 'induced', 'indued', 'inevitable', 'inexorable', 'inexplicable', 'infallibly', 'infant', 'infants', 'infect', 'infected', 'infection', 'infectious', 'infects', 'infinite', 'infirmities', 'infirmity', 'inflame', 'influence', 'infold', 'inform', 'information', 'infringement', 'infus', 'infusion', 'ingenious', 'ingrafted', 'ingrate', 'ingrateful', 'ingratitude', 'inhabit', 'inhabits', 'inherit', 'inheritance', 'inheritor', 'inhibition', 'injunction', 'injur', 'injuries', 'injury', 'ink', 'inky', 'inmost', 'innocence', 'innocent', 'innovation', 'inoculate', 'inquiry', 'insert', 'insinuation', 'insisted', 'insolence', 'instance', 'instances', 'instant', 'instantly', 'instigations', 'instructs', 'instrument', 'instrumental', 'instruments', 'insupportable', 'insuppressive', 'insurrection', 'int', 'intellectual', 'intend', 'intended', 'intent', 'intents', 'inter', 'intercepter', 'intercession', 'interchangement', 'interchanging', 'interest', 'interim', 'interlude', 'intermit', 'internal', 'international', 'interpose', 'interpret', 'interpreted', 'interr', 'interred', 'interrupt', 'intimate', 'into', 'intruding', 'intrusion', 'inundation', 'inure', 'inurn', 'invalidity', 'invention', 'inventorially', 'inventoried', 'inventors', 'investments', 'invisible', 'invite', 'invited', 'invites', 'invocation', 'invulnerable', 'inward', 'iron', 'irs', 'is', 'israel', 'issue', 'issuing', 'it', 'italian', 'italy', 'itch', 'itching', 'item', 'its', 'itself', 'iv', 'jack', 'jacks', 'jade', 'jades', 'james', 'jangled', 'january', 'jauncing', 'jaunt', 'jaw', 'jawbone', 'jaws', 'jealous', 'jealousy', 'jelly', 'jephthah', 'jest', 'jester', 'jesting', 'jests', 'jesu', 'jets', 'jewel', 'jezebel', 'jig', 'jigging', 'jocund', 'john', 'join', 'joinder', 'joiner', 'joint', 'jointly', 'jointress', 'joints', 'jointure', 'jolly', 'jot', 'journey', 'journeymen', 'journeys', 'jove', 'jowls', 'joy', 'joyful', 'joyfully', 'joys', 'judge', 'judgement', 'judges', 'judgment', 'judgments', 'judicious', 'juggled', 'juice', 'juiced', 'jule', 'juliet', 'julius', 'jump', 'jurymen', 'just', 'justice', 'justly', 'keen', 'keep', 'keeper', 'keepers', 'keeping', 'keeps', 'kept', 'kerchief', 'kettle', 'key', 'keys', 'kibe', 'kick', 'kill', 'killed', 'killing', 'kills', 'kin', 'kind', 'kindle', 'kindless', 'kindly', 'kindness', 'kindnesses', 'kindred', 'king', 'kingdom', 'kingly', 'kings', 'kinsman', 'kinsmen', 'kiss', 'kisses', 'kissing', 'kitchen', 'kites', 'knave', 'knavery', 'knaves', 'knavish', 'knee', 'kneel', 'kneels', 'knees', 'knew', 'knife', 'knight', 'knit', 'knitters', 'knock', 'knocked', 'knocking', 'knocks', 'knot', 'knotted', 'knotty', 'know', 'knowest', 'knowing', 'knowledge', 'known', 'knows', 'la', 'label', 'labelled', 'labeo', 'labour', 'labourer', 'labouring', 'laboursome', 'lace', 'lack', 'lacks', 'lad', 'ladder', 'ladies', 'lads', 'lady', 'ladybird', 'ladyship', 'laertes', 'laertes_', 'laid', 'lain', 'lake', 'lamb', 'lame', 'lament', 'lamentable', 'lamentation', 'lamented', 'laments', 'lammas', 'lamond', 'lamp', 'land', 'lands', 'language', 'languages', 'languish', 'lank', 'lantern', 'lap', 'laps', 'lapsed', 'lapwing', 'larded', 'large', 'larger', 'lark', 'lash', 'last', 'lasting', 'late', 'lately', 'latest', 'lath', 'laudable', 'laugh', 'laugher', 'laughs', 'laughter', 'laura', 'law', 'lawful', 'lawless', 'lawrence', 'laws', 'lawyer', 'lawyers', 'lay', 'layest', 'laying', 'lays', 'lazar', 'lazy', 'lead', 'leaden', 'leading', 'leads', 'leaf', 'leagues', 'lean', 'leans', 'leap', 'leaping', 'leaps', 'learn', 'learned', 'learning', 'learns', 'learnt', 'leasing', 'least', 'leather', 'leave', 'leaves', 'leaving', 'lecherous', 'lechery', 'lecture', 'led', 'left', 'leg', 'legacies', 'legacy', 'legal', 'legally', 'legion', 'legions', 'legitimate', 'legs', 'leisure', 'leman', 'lena', 'lend', 'lender', 'lends', 'length', 'lengthens', 'lenity', 'lent', 'lenten', 'leperous', 'lepidus', 'less', 'lessen', 'lesser', 'lesson', 'lest', 'let', 'lethargy', 'lethe', 'lets', 'letter', 'letter_', 'letters', 'letting', 'level', 'levied', 'levies', 'levying', 'lewdness', 'liability', 'liable', 'liar', 'liars', 'liberal', 'liberties', 'libertine', 'liberty', 'library', 'licence', 'license', 'licensed', 'lick', 'lids', 'lie', 'lief', 'liege', 'liegemen', 'lies', 'liest', 'lieu', 'life', 'lifelings', 'lift', 'lifted', 'lifts', 'ligarius', 'light', 'lighted', 'lightens', 'lighter', 'lightest', 'lightly', 'lightness', 'lightning', 'lights', 'like', 'likelihood', 'likely', 'likeness', 'likes', 'likewise', 'liking', 'limb', 'limbs', 'limed', 'limit', 'limitation', 'limited', 'limits', 'limping', 'line', 'lineament', 'lines', 'link', 'linked', 'links', 'lion', 'lioness', 'lions', 'lip', 'lips', 'liquid', 'liquor', 'lisp', 'lisping', 'list', 'listen', 'lists', 'literary', 'litter', 'little', 'littlest', 'liv', 'live', 'lived', 'livelong', 'lively', 'liver', 'livery', 'lives', 'livest', 'livia', 'living', 'll', 'llc', 'lo', 'load', 'loads', 'loam', 'loan', 'loath', 'loathed', 'loathsome', 'lobby', 'located', 'locations', 'lock', 'locks', 'lodg', 'lodge', 'lodges', 'lodging', 'lofty', 'loggerhead', 'loggets', 'logic', 'logs', 'loins', 'lolling', 'loneliness', 'long', 'longed', 'longer', 'longing', 'look', 'looked', 'looking', 'looks', 'loose', 'loosed', 'lord', 'lords', 'lordship', 'lose', 'loser', 'loses', 'losing', 'loss', 'losses', 'lost', 'lot', 'loth', 'lottery', 'loud', 'loudly', 'lov', 'love', 'loved', 'lovedst', 'lovely', 'lover', 'lovers', 'loves', 'lovest', 'loving', 'lovingly', 'low', 'lower', 'lowering', 'lowest', 'lowliness', 'lowly', 'loyal', 'lt', 'lubber', 'lucentio', 'lucianus', 'lucilius', 'lucio', 'lucius', 'lucrece', 'lug', 'lullaby', 'lunacies', 'lunacy', 'lunatic', 'lungs', 'lupercal', 'lure', 'lurk', 'lust', 'lustier', 'lustre', 'lustrous', 'lusty', 'luxury', 'lying', 'mab', 'mace', 'machine', 'mad', 'madam', 'made', 'madly', 'madman', 'madmen', 'madness', 'madonna', 'mads', 'maggots', 'magic', 'maid', 'maiden', 'maidenhead', 'maidenheads', 'maidenhoods', 'maidhood', 'maids', 'mail', 'mailing', 'maimed', 'main', 'mainly', 'maintain', 'maintaining', 'maintains', 'majestic', 'majestical', 'majesties', 'majesty', 'mak', 'make', 'maker', 'makers', 'makes', 'making', 'malapert', 'malefactions', 'malice', 'malicious', 'malignancy', 'mall', 'mallicho', 'malvolio', 'mammet', 'man', 'manage', 'mandate', 'mandrakes', 'manes', 'mangle', 'mangled', 'manhood', 'manifests', 'manikin', 'mankind', 'manly', 'manner', 'mannerly', 'manners', 'mansion', 'mantle', 'mantua', 'many', 'map', 'mar', 'marble', 'marcellus', 'march', 'marching', 'marchpane', 'marcus', 'margent', 'margin', 'maria', 'marian', 'mark', 'marked', 'market', 'marketplace', 'markets', 'markman', 'marr', 'marriage', 'marriages', 'married', 'marrow', 'marry', 'mars', 'marshal', 'mart', 'martial', 'martino', 'martyr', 'marullus', 'marvel', 'marvellous', 'mary', 'masculine', 'mask', 'masker', 'maskers', 'masks', 'mason', 'masques', 'mass', 'massy', 'mast', 'master', 'masterless', 'masterly', 'masters', 'match', 'mater_', 'mates', 'matin', 'matron', 'matter', 'matters', 'mattock', 'maugre', 'maw', 'maximum', 'may', 'mayest', 'mayst', 'mazard', 'me', 'meagre', 'meals', 'mean', 'meanest', 'meaning', 'means', 'meant', 'meantime', 'measure', 'measures', 'measuring', 'meat', 'meats', 'mechanical', 'meddle', 'medicine', 'meditate', 'meditates', 'meditating', 'meditation', 'medium', 'medlar', 'medlars', 'meed', 'meek', 'meet', 'meeting', 'melancholy', 'mellifluous', 'mellow', 'melodious', 'melt', 'melteth', 'melting', 'memorials', 'memory', 'men', 'menace', 'mend', 'mended', 'mender', 'mention', 'merchandise', 'merchant', 'merchantability', 'mercies', 'merciful', 'mercury', 'mercutio', 'mercy', 'mere', 'merely', 'merit', 'mermaid', 'merrily', 'merriment', 'merry', 'mess', 'message', 'messages', 'messala', 'messaline', 'messenger', 'messengers', 'met', 'metal', 'metals', 'metaphor', 'metellus', 'meteor', 'methinks', 'method', 'methods', 'methought', 'mettle', 'mettled', 'mew', 'michael', 'miching', 'mickle', 'middle', 'midnight', 'midsummer', 'midwife', 'might', 'mightier', 'mightiest', 'mightst', 'mighty', 'milch', 'mildew', 'miles', 'milk', 'milky', 'million', 'millions', 'mincing', 'mind', 'minded', 'minds', 'mine', 'mineral', 'mines', 'mingled', 'minim', 'mining', 'minion', 'minist', 'minister', 'ministers', 'minstrel', 'minstrels', 'mint', 'minute', 'minutes', 'minx', 'miracle', 'miraculous', 'mire', 'mirror', 'mirrors', 'mirth', 'mis', 'misadventur', 'misadventure', 'misapplied', 'miscarried', 'miscarry', 'mischance', 'mischief', 'mischiefs', 'mischievous', 'misconstrued', 'misdemeanours', 'miserable', 'miseries', 'misery', 'misfortune', 'misgives', 'misgiving', 'misprision', 'miss', 'misshaped', 'misshapen', 'mission', 'mississippi', 'mist', 'mista', 'mistake', 'mistaken', 'mistaking', 'mistemper', 'misterm', 'mistook', 'mistress', 'mistresses', 'mistrust', 'misty', 'mitigation', 'mix', 'mixture', 'mo', 'moan', 'moans', 'mobled', 'mock', 'mocker', 'mockery', 'mocks', 'model', 'moderate', 'moderately', 'modern', 'modest', 'modesties', 'modestly', 'modesty', 'modification', 'modified', 'moe', 'moiety', 'moist', 'mole', 'mollification', 'moment', 'monachum', 'monarch', 'monarchs', 'monday', 'money', 'money_', 'mongers', 'monsieur', 'monster', 'monsters', 'monstrous', 'montague', 'montagues', 'month', 'monthly', 'months', 'monument', 'mood', 'moods', 'moody', 'moon', 'moons', 'moonshine', 'moor', 'mope', 'more', 'moreover', 'mores', 'morn', 'morning', 'morrow', 'morsel', 'mortal', 'mortals', 'mortified', 'mortis', 'most', 'mote', 'mother', 'mothers', 'motion', 'motions', 'motive', 'motives', 'motley', 'mould', 'moult', 'mount', 'mountain', 'mountains', 'mountebank', 'mourn', 'mourned', 'mourners', 'mourning', 'mouse', 'mousetrap', 'mouth', 'mouthed', 'mouths', 'mov', 'move', 'moved', 'moves', 'moveth', 'moving', 'much', 'muddied', 'muddy', 'muffle', 'muffled', 'muffling', 'mugger', 'multitude', 'mumbling', 'murd', 'murder', 'murdered', 'murderer', 'murderers', 'murdering', 'murderous', 'murders', 'murmur', 'music', 'musician', 'musicians', 'musing', 'must', 'musty', 'mute', 'mutes', 'mutine', 'mutinies', 'mutiny', 'mutton', 'mutual', 'my', 'myrmidons', 'myself', 'mystery', 'nails', 'naked', 'nam', 'name', 'named', 'names', 'nant', 'nap', 'napkin', 'napkins', 'narrow', 'nasty', 'nation', 'nations', 'native', 'natur', 'natural', 'nature', 'natures', 'naught', 'naughty', 'nave', 'nay', 'nayword', 'ne', 'near', 'nearer', 'nearly', 'neat', 'necessaries', 'necessarily', 'necessary', 'necessities', 'necessity', 'neck', 'need', 'needful', 'needly', 'needs', 'needy', 'negatives', 'neglect', 'neglected', 'neglecting', 'negligence', 'negotiate', 'neigh', 'neighbour', 'neighbours', 'neither', 'nell', 'nemean', 'nephew', 'neptune', 'nero', 'nerve', 'nervii', 'nest', 'nets', 'nettles', 'network', 'neutral', 'never', 'new', 'newby', 'newly', 'news', 'newsletter', 'next', 'nice', 'nicely', 'nickname', 'niece', 'nieces', 'niggard', 'niggardly', 'night', 'nighted', 'nightgown', 'nightingale', 'nightingales', 'nightly', 'nights', 'nill', 'nimble', 'nimbleness', 'nine', 'ning', 'ninth', 'niobe', 'nipping', 'nipple', 'no', 'noah', 'nob', 'nobility', 'noble', 'nobleman', 'nobler', 'noblest', 'nobly', 'nod', 'nods', 'noise', 'nomination', 'non', 'nonce', 'none', 'nonny', 'nonpareil', 'nonproprietary', 'noon', 'noonday', 'nor', 'norman', 'normandy', 'north', 'northerly', 'northern', 'norway', 'nose', 'noses', 'not', 'notable', 'note', 'noted', 'notes', 'notest', 'nothing', 'notice', 'notifies', 'noting', 'notorious', 'notoriously', 'notwithstanding', 'nought', 'nourish', 'november', 'now', 'nowadays', 'nowhere', 'noyance', 'number', 'numbered', 'numbers', 'numerous', 'nuncio', 'nunnery', 'nuns', 'nuptial', 'nurs', 'nurse', 'nuts', 'nutshell', 'nyas', 'nymph', 'oaks', 'oath', 'oaths', 'obedience', 'obedient', 'obey', 'obeys', 'object', 'objects', 'obligation', 'oblivion', 'obscur', 'obscure', 'obscurely', 'obsequies', 'obsequious', 'observ', 'observance', 'observant', 'observation', 'observe', 'observer', 'observers', 'obsolete', 'obstacle', 'obstinate', 'obstruction', 'obtain', 'obtaining', 'occasion', 'occasions', 'occulted', 'occupation', 'occupy', 'occur', 'occurrence', 'occurrents', 'ocean', 'octavius', 'od', 'odd', 'oddly', 'odds', 'odour', 'odours', 'of', 'off', 'offal', 'offence', 'offences', 'offend', 'offended', 'offendendo_', 'offender', 'offending', 'offends', 'offer', 'offered', 'offering', 'offers', 'office', 'officer', 'officers', 'offices', 'official', 'oft', 'often', 'oh', 'old', 'older', 'olive', 'olivia', 'olympus', 'omen', 'ominous', 'omit', 'omitted', 'on', 'once', 'one', 'ones', 'online', 'only', 'op', 'opal', 'ope', 'open', 'opened', 'opening', 'opens', 'operant', 'operation', 'ophelia', 'ophelia_', 'opinion', 'opinions', 'opportunities', 'opportunity', 'oppos', 'opposed', 'opposing', 'opposite', 'opposites', 'opposition', 'oppress', 'oppression', 'oppressor', 'or', 'oration', 'orator', 'orb', 'orbed', 'orchard', 'orchards', 'ordained', 'order', 'orderly', 'ordinance', 'ordinant', 'ordinary', 'ordnance', 'ore', 'org', 'organ', 'organized', 'origin', 'original', 'originator', 'orisons', 'ornament', 'ornaments', 'orsino', 'osier', 'osric', 'ossa', 'ostentation', 'other', 'othergates', 'others', 'otherwise', 'ought', 'ounce', 'our', 'ours', 'ourself', 'ourselves', 'out', 'outbreak', 'outcry', 'outdated', 'outface', 'outlawry', 'outlive', 'outlives', 'outrage', 'outrageous', 'outside', 'outstretch', 'outward', 'over', 'overcame', 'overcome', 'overdone', 'overfar', 'overheard', 'overlooked', 'overlooking', 'overpeering', 'overpowered', 'overset', 'overthrow', 'overthrown', 'overthrows', 'overture', 'overweening', 'overwhelming', 'overworn', 'owe', 'owed', 'owes', 'owl', 'own', 'owner', 'owns', 'oxen', 'pace', 'paced', 'pacified', 'pack', 'packet', 'packing', 'packthread', 'paddling', 'paddock', 'pagan', 'page', 'pages', 'pah', 'paid', 'pain', 'pains', 'paint', 'painted', 'painter', 'painting', 'paintings', 'pair', 'pajock', 'palace', 'palate', 'pale', 'pales', 'pall', 'palm', 'palmers', 'palmy', 'palpable', 'palter', 'paltry', 'paly', 'pandarus', 'panders', 'pang', 'pangs', 'pansies', 'pantry', 'pants', 'paper', 'paper_', 'papers', 'paperwork', 'paradise', 'paradox', 'paragon', 'paragraph', 'paragraphs', 'paramour', 'parching', 'parchment', 'pardon', 'pardoning', 'pare', 'parentage', 'parents', 'paris', 'parish', 'parle', 'parley', 'parson', 'part', 'partake', 'parted', 'parthia', 'partial', 'participate', 'particle', 'particular', 'particularly', 'parties', 'parting', 'partisan', 'partisans', 'partizans', 'partly', 'parts', 'party', 'pass', 'passado', 'passage', 'passages', 'passed', 'passes', 'passeth', 'passing', 'passion', 'passionate', 'passions', 'passy', 'past', 'pastime', 'pastoral', 'pastors', 'pastry', 'pat', 'patch', 'patched', 'patches', 'pate', 'pated', 'path', 'pathway', 'pathways', 'patience', 'patient', 'patiently', 'patrick', 'pause', 'pavin', 'pay', 'paying', 'payment', 'payments', 'pays', 'peace', 'peak', 'peal', 'pear', 'pearl', 'peasant', 'peasants', 'peascod', 'peating', 'pebbles', 'peculiar', 'pedant', 'peep', 'peer', 'peevish', 'peevishly', 'peg', 'pelican', 'pelion', 'pella', 'pen', 'penalty', 'penance', 'pencil', 'pendant', 'penetrable', 'penned', 'penny', 'pennyworths', 'pens', 'pension', 'pensive', 'pentecost', 'penthesilea', 'penury', 'people', 'pepper', 'peppered', 'perceiv', 'perceive', 'perceived', 'perch', 'perchance', 'perdie', 'perdition', 'perdy', 'perfect', 'perfection', 'perfections', 'perforce', 'perform', 'performance', 'performances', 'performed', 'performing', 'perfume', 'perhaps', 'peril', 'perilous', 'perils', 'periodic', 'periwig', 'perjur', 'perjuries', 'perjury', 'permanent', 'permission', 'permitted', 'pernicious', 'perpend', 'persevere', 'person', 'personage', 'personal', 'personated', 'persons', 'personæ', 'perspective', 'persuade', 'persuaded', 'persuades', 'persuasion', 'perturbed', 'perusal', 'peruse', 'perverse', 'perverseness', 'pester', 'pestilence', 'pestilent', 'petard', 'peter', 'petition', 'petitions', 'petrarch', 'petruchio', 'petty', 'pg', 'pglaf', 'phaeton', 'phantasies', 'phantasma', 'philippi', 'philosophy', 'phoebus', 'phrase', 'phrases', 'phrygia', 'physic', 'physical', 'pickaxe', 'picked', 'pickers', 'pickle', 'picture', 'pictures', 'pie', 'piece', 'pieces', 'pierc', 'piercing', 'pig', 'pigeon', 'pigrogromitus', 'pilchards', 'pilcher', 'pile', 'pilgrim', 'pilgrimage', 'pilgrims', 'pilot', 'pin', 'pinch', 'pindarus', 'pined', 'pinion', 'pink', 'pioner', 'pious', 'pipe', 'pipes', 'pirate', 'pistol', 'pit', 'pitch', 'piteous', 'pith', 'pitied', 'pitiful', 'pity', 'plac', 'place', 'placed', 'placentio', 'places', 'plague', 'plagues', 'plain', 'plainly', 'plains', 'plaintiff', 'planets', 'plant', 'plantain', 'planted', 'plants', 'plastering', 'plate', 'platform', 'plats', 'plausive', 'plautus', 'play', 'played', 'player', 'players', 'playing', 'plays', 'pleading', 'pleas', 'pleasant', 'please', 'pleased', 'pleaser', 'pleasing', 'pleasure', 'pleasures', 'pledge', 'plentiful', 'plenty', 'pleurisy', 'plight', 'plot', 'plots', 'pluck', 'plucking', 'plucks', 'plum', 'plumes', 'plunge', 'plunged', 'plutus', 'ply', 'po', 'pocket', 'pocky', 'poem', 'poet', 'poetical', 'point', 'points', 'pois', 'poison', 'poisoner', 'poisoning', 'poisons', 'polack', 'polacks', 'poland', 'pole', 'policy', 'politic', 'politician', 'politicians', 'poll', 'pollution', 'polonius', 'pomegranate', 'pomp', 'pompey', 'ponderous', 'poniards', 'pooh', 'poor', 'poperin', 'popilius', 'popp', 'porch', 'porches', 'porcupine', 'portal', 'portend', 'portentous', 'portents', 'porter', 'portia', 'portly', 'portraiture', 'position', 'positively', 'possess', 'possessed', 'possession', 'posset', 'possibility', 'possible', 'possibly', 'post', 'posted', 'posterity', 'postscript', 'posture', 'posy', 'potency', 'potent', 'potently', 'pothecary', 'potion', 'potpan', 'pots', 'poultice', 'pound', 'pour', 'pours', 'poverty', 'powder', 'power', 'powerful', 'powerfully', 'powers', 'pox', 'pr', 'practically', 'practice', 'practices', 'practise', 'practising', 'praetor', 'praetors', 'prague', 'prais', 'praise', 'praised', 'praises', 'praising', 'pranks', 'prate', 'prates', 'prating', 'prattle', 'pray', 'prayer', 'prayers', 'praying', 'prays', 'pre', 'preach', 'preaching', 'precedent', 'preceding', 'precepts', 'precious', 'precisely', 'precurse', 'predicament', 'predictions', 'predominant', 'prefer', 'prefixed', 'pregnant', 'prenominate', 'prepar', 'preparation', 'preparations', 'prepare', 'prepared', 'prerogative', 'presage', 'presence', 'present', 'presented', 'presently', 'presentment', 'presents', 'preserv', 'preserve', 'preserved', 'preserving', 'press', 'presses', 'pressure', 'pressures', 'prest', 'presume', 'presuppos', 'prettiest', 'prettiness', 'pretty', 'prevail', 'prevails', 'prevent', 'prevented', 'prevention', 'prevents', 'previous', 'prey', 'priam', 'price', 'prick', 'pricking', 'pricks', 'pride', 'priest', 'priests', 'primal', 'primrose', 'primy', 'prince', 'princes', 'princess', 'principal', 'princox', 'print', 'printed', 'prison', 'prisoner', 'prithee', 'private', 'privates', 'privy', 'prize', 'prized', 'prizes', 'probation', 'problem', 'proceed', 'proceeded', 'proceeding', 'process', 'processing', 'procession', 'proclaim', 'proclaims', 'procure', 'procures', 'prodigal', 'prodigies', 'prodigious', 'produce', 'produced', 'production', 'profanation', 'profane', 'profanely', 'profaners', 'profess', 'profession', 'professor', 'profit', 'profits', 'profound', 'profoundest', 'progress', 'prohibition', 'project', 'prolixity', 'prologue', 'prolongs', 'prominently', 'promis', 'promise', 'promised', 'promontory', 'promoting', 'promotion', 'prompt', 'prompted', 'prompter', 'pronounc', 'pronounce', 'pronounced', 'pronouncing', 'proof', 'proofread', 'propagate', 'proper', 'properer', 'propertied', 'property', 'prophesy', 'prophetic', 'proportion', 'proportions', 'propos', 'propose', 'proposer', 'proprietary', 'propriety', 'props', 'prorogue', 'prorogued', 'proscription', 'proscriptions', 'prose', 'prospect', 'prosper', 'prosperous', 'prosperously', 'prostrate', 'protect', 'protected', 'protection', 'protest', 'protestation', 'protester', 'protests', 'proud', 'prouds', 'prov', 'prove', 'provender', 'proverb', 'proves', 'provide', 'provided', 'providence', 'provident', 'providing', 'provincial', 'provision', 'provisions', 'provoke', 'prudence', 'prudent', 'pry', 'prythee', 'public', 'publish', 'publius', 'puff', 'puffing', 'puffs', 'puissant', 'puling', 'pull', 'pulling', 'pulpit', 'pulpits', 'pulse', 'pump', 'punish', 'punished', 'punitive', 'punto', 'pupil', 'puppets', 'purblind', 'purchase', 'purchases', 'pure', 'purer', 'purg', 'purgation', 'purgatory', 'purge', 'purgers', 'purging', 'puritan', 'purple', 'purpled', 'purples', 'purport', 'purpos', 'purpose', 'purposely', 'purposes', 'purse', 'pursu', 'pursue', 'pursuing', 'pursuit', 'pursy', 'push', 'put', 'puts', 'putt', 'putting', 'puzzled', 'puzzles', 'pyrrhus', 'pythagoras', 'quaffing', 'quaintly', 'quake', 'qualifies', 'qualities', 'quality', 'quantity', 'quarrel', 'quarrelled', 'quarreller', 'quarrelling', 'quarrels', 'quarry', 'quarter', 'quartered', 'quean', 'queen', 'quench', 'quenching', 'quest', 'question', 'questionable', 'queubus', 'quick', 'quickly', 'quickness', 'quicksilver', 'quiddits', 'quiet', 'quieter', 'quietly', 'quietus', 'quillets', 'quills', 'quinapalus', 'quinces', 'quintessence', 'quirk', 'quit', 'quite', 'quits', 'quivering', 'quivers', 'quote', 'quoted', 'quoth', 'rabble', 'rabblement', 'rack', 'radiant', 'rag', 'rage', 'rages', 'raging', 'rags', 'rail', 'railing', 'rain', 'raineth', 'rains', 'rais', 'raise', 'ramsey', 'ran', 'rancour', 'range', 'ranging', 'rank', 'ranker', 'rankly', 'ranks', 'ransoms', 'rant', 'rapier', 'rapiers', 'rare', 'rareness', 'rascal', 'rascally', 'rascals', 'rash', 'rashly', 'rashness', 'rat', 'rate', 'rated', 'rather', 'ratified', 'ratifiers', 'rattling', 'raught', 'rave', 'ravel', 'raven', 'ravening', 'ravens', 'raves', 'raw', 'rawer', 'rays', 'razed', 're', 'reach', 'reaches', 'reaching', 'read', 'readable', 'readiness', 'reading', 'reads', 'ready', 'really', 'realm', 'reap', 'rear', 'rears', 'reason', 'reasonable', 'reasons', 'rebeck', 'rebel', 'rebellion', 'rebellious', 'rebels', 'rebuke', 'receipt', 'receiv', 'receive', 'received', 'receives', 'receivest', 'receiveth', 'receiving', 'recently', 'receptacle', 'reckless', 'reckon', 'reckoning', 'recks', 'reclaim', 'recognizances', 'recollected', 'recommended', 'recompens', 'recompense', 'reconcile', 'reconcilement', 'record', 'recorders', 'records', 'recount', 'recounts', 'recover', 'recovered', 'recoveries', 'recovery', 'recreate', 'recreation', 'red', 'redder', 'rede', 'redeem', 'redistribute', 'redistributing', 'redistribution', 'redress', 'reechy', 'reek', 'reeky', 'reels', 'references', 'reflection', 'reflex', 'reform', 'refrain', 'refresh', 'refund', 'refus', 'refuse', 'refused', 'regard', 'regardance', 'regarded', 'regards', 'region', 'regions', 'registered', 'regulating', 'reign', 'reigns', 'reins', 'rejoice', 'relations', 'relative', 'release', 'relics', 'relief', 'reliev', 'relieve', 'religion', 'religious', 'relish', 'remain', 'remainder', 'remaining', 'remains', 'remedies', 'remedy', 'remember', 'remembering', 'remembrance', 'remembrances', 'remiss', 'remnants', 'remorse', 'remorseless', 'remote', 'remov', 'remove', 'removed', 'renamed', 'rend', 'render', 'rendered', 'rendering', 'rendezvous', 'renegado', 'renown', 'rent', 'repair', 'repast', 'repaying', 'repeal', 'repealing', 'repel', 'repent', 'repentance', 'repetition', 'replace', 'replacement', 'replication', 'replies', 'repliest', 'reply', 'report', 'reported', 'reports', 'repose', 'representations', 'reproof', 'reprove', 'reproves', 'repugnant', 'repulsed', 'reputation', 'repute', 'reputed', 'request', 'requiem', 'require', 'required', 'requirements', 'requite', 'rescue', 'research', 'resemble', 'resembled', 'resembles', 'reserv', 'reserve', 'residence', 'resign', 'resolute', 'resolutes', 'resolution', 'resolv', 'resolve', 'resolved', 'resort', 'respect', 'respective', 'respects', 'responsive', 'rest', 'resting', 'restorative', 'restore', 'restrain', 'restraint', 'restrictions', 'rests', 'retain', 'retention', 'retentive', 'retire', 'retirement', 'retorts', 'retreat', 'retrograde', 'return', 'returned', 'returneth', 'returning', 'returns', 'reveal', 'reveals', 'revel', 'reveller', 'revels', 'reveng', 'revenge', 'revenged', 'revengeful', 'revenges', 'revenue', 'reverberate', 'reverence', 'reverend', 'reverse', 'reverso', 'reverted', 'revisit', 'reviv', 'revive', 'reviving', 'revolt', 'revolts', 'revolution', 'revolve', 'rewards', 'reynaldo', 'rhapsody', 'rhenish', 'rheum', 'rheumy', 'rhyme', 'rhymed', 'riband', 'rich', 'richer', 'richest', 'rid', 'riddle', 'riddling', 'ride', 'ridiculous', 'right', 'righteous', 'rightly', 'rights', 'rigour', 'ril', 'rim', 'rind', 'ring', 'rings', 'riotous', 'ripe', 'ripening', 'rise', 'rises', 'rite', 'rites', 'riv', 'rivals', 'river', 'rivet', 'roaming', 'roar', 'roaring', 'roars', 'roasted', 'rob', 'robbers', 'robe', 'robes', 'robin', 'robustious', 'rock', 'rocks', 'rode', 'roderigo', 'roe', 'rogue', 'rogues', 'roman', 'romans', 'rome', 'romeo', 'rood', 'roof', 'room', 'rooteth', 'ropery', 'ropes', 'rosaline', 'roscius', 'rose', 'rosemary', 'rosencrantz', 'roses', 'rostrum', 'rot', 'rote', 'rots', 'rotten', 'rough', 'roughly', 'round', 'rous', 'rouse', 'rout', 'row', 'royal', 'royally', 'royalties', 'royalty', 'rub', 'rubbish', 'rubious', 'ruby', 'ruddy', 'rude', 'rudely', 'rudeness', 'rudesby', 'rue', 'ruffian', 'ruffle', 'rugged', 'ruin', 'ruins', 'rul', 'rule', 'ruled', 'rules', 'rummage', 'rumour', 'run', 'runagate', 'runaway', 'rung', 'runn', 'runs', 'rushes', 'rushing', 'russet', 'rusty', 'sable', 'sables', 'sack', 'sacred', 'sacrific', 'sacrifice', 'sacrificers', 'sacrifices', 'sad', 'sadly', 'sadness', 'safe', 'safely', 'safety', 'sage', 'said', 'sail', 'sailed', 'sailing', 'sailor', 'sailors', 'sails', 'saint', 'saints', 'sake', 'salary', 'sale', 'sallets', 'sallow', 'salt', 'salutation', 'saluteth', 'salvation', 'same', 'sampson', 'sanctified', 'sanctity', 'sanctuarize', 'sandal', 'sanity', 'sans', 'sardians', 'sardis', 'sat', 'satan', 'sate', 'satirical', 'satisfaction', 'satisfied', 'satisfy', 'satyr', 'sauce', 'saucy', 'sav', 'savage', 'savageness', 'save', 'saved', 'saving', 'saviour', 'savours', 'savoury', 'saw', 'saws', 'say', 'saying', 'sayings', 'says', 'sblood', 'scab', 'scabbard', 'scale', 'scales', 'scandal', 'scann', 'scant', 'scanter', 'scap', 'scape', 'scarce', 'scarcely', 'scare', 'scarf', 'scarfs', 'scaring', 'scarlet', 'scars', 'scathe', 'scathful', 'scatter', 'scattered', 'scene', 'scenes', 'scent', 'schedule', 'schedules', 'scholar', 'scholars', 'school', 'schoolboys', 'schoolfellows', 'scolding', 'sconce', 'scope', 'scopes', 'score', 'scorn', 'scorning', 'scorns', 'scoundrels', 'scourge', 'scout', 'scrape', 'scratch', 'screen', 'screws', 'scrimers', 'scripture', 'scruple', 'scuffling', 'scullion', 'scurvy', 'sea', 'seal', 'sealed', 'seals', 'search', 'searchers', 'searching', 'seas', 'season', 'seasons', 'seat', 'seated', 'seats', 'sebastian', 'second', 'secrecy', 'secret', 'secrets', 'section', 'sections', 'secundo', 'secure', 'security', 'seduc', 'seduce', 'seducing', 'see', 'seed', 'seeds', 'seeing', 'seek', 'seeking', 'seeks', 'seem', 'seeming', 'seems', 'seen', 'sees', 'seest', 'seiz', 'seize', 'seldom', 'select', 'self', 'selfsame', 'sell', 'semblable', 'semblance', 'semblative', 'senate', 'senators', 'send', 'sending', 'sends', 'seneca', 'sense', 'senseless', 'senses', 'sensible', 'sensibly', 'sent', 'sentence', 'sententious', 'sentinels', 'separate', 'separated', 'september', 'sepulchre', 'sequel', 'sequent', 'sere', 'sergeant', 'serious', 'serpent', 'serpents', 'serv', 'servant', 'servants', 'serve', 'served', 'serves', 'service', 'serviceable', 'services', 'servile', 'serving', 'servingman', 'serviteur', 'set', 'sets', 'setting', 'settled', 'seven', 'seventy', 'several', 'severally', 'severest', 'severing', 'severity', 'severs', 'sewing', 'sex', 'sexton', 'shackles', 'shadow', 'shadows', 'shady', 'shaft', 'shake', 'shakes', 'shakespeare', 'shaking', 'shall', 'shallow', 'shallows', 'shalt', 'sham', 'shame', 'shameful', 'shanks', 'shape', 'shaped', 'shapes', 'shards', 'share', 'shared', 'sharing', 'shark', 'sharp', 'sharply', 'sharps', 'shatter', 'shawses', 'she', 'sheath', 'sheathe', 'sheathed', 'shed', 'sheen', 'sheep', 'sheet', 'sheeted', 'sheets', 'shelf', 'shell', 'shelves', 'shent', 'shepherds', 'sheriff', 'shield', 'shift', 'shillings', 'shin', 'shine', 'shines', 'shining', 'ship', 'shipp', 'shipwright', 'shipwrights', 'shirt', 'shocks', 'shoe', 'shoemaker', 'shoes', 'shook', 'shoon', 'shoot', 'shop', 'shore', 'shores', 'short', 'shortens', 'shortly', 'shot', 'should', 'shoulder', 'shouldst', 'shout', 'shouted', 'shouting', 'shouts', 'shove', 'shovel', 'show', 'showering', 'showers', 'showing', 'shown', 'shows', 'shreds', 'shrew', 'shrewd', 'shrewdly', 'shrewishly', 'shriek', 'shrieking', 'shrieks', 'shrift', 'shrill', 'shriller', 'shrine', 'shriv', 'shriving', 'shroud', 'shrouding', 'shrunk', 'shuffled', 'shuffling', 'shunn', 'shut', 'shuts', 'sick', 'sicken', 'sicklied', 'sickly', 'sickness', 'side', 'sides', 'siege', 'sift', 'sigh', 'sighing', 'sighs', 'sight', 'sighted', 'sights', 'sign', 'signal', 'signet', 'signified', 'signifies', 'signify', 'signior', 'silence', 'silent', 'silk', 'silly', 'silver', 'simon', 'simple', 'simpleness', 'simples', 'simply', 'simulation', 'sin', 'since', 'sinews', 'sing', 'singeing', 'singer', 'singeth', 'singing', 'single', 'singleness', 'sings', 'singular', 'singularity', 'sinister', 'sink', 'sinner', 'sinners', 'sins', 'sipping', 'sir', 'sire', 'sirrah', 'sirs', 'sister', 'sisterhood', 'sisters', 'sit', 'site', 'sith', 'sits', 'sitting', 'six', 'sixpence', 'sixteen', 'siz', 'skains', 'skies', 'skilful', 'skill', 'skilless', 'skills', 'skin', 'skins', 'skipping', 'skirts', 'skittish', 'skull', 'skulls', 'sky', 'skyish', 'slack', 'slain', 'sland', 'slander', 'slanders', 'slaught', 'slaughter', 'slaughters', 'slave', 'slaves', 'slay', 'slaying', 'slays', 'sledded', 'sleek', 'sleep', 'sleeper', 'sleeping', 'sleeps', 'sleepy', 'sleeve', 'slender', 'slept', 'slew', 'slid', 'slight', 'slighted', 'slightly', 'slings', 'slip', 'slippery', 'slips', 'sliver', 'slop', 'slough', 'slow', 'slowly', 'slug', 'slumber', 'sluttish', 'small', 'smallest', 'smart', 'smatch', 'smatter', 'smear', 'smell', 'smelling', 'smells', 'smelt', 'smil', 'smile', 'smiles', 'smilest', 'smiling', 'smock', 'smoke', 'smooth', 'smoothness', 'smote', 'snatch', 'snatches', 'sneck', 'snow', 'snowy', 'snuff', 'so', 'soaks', 'soar', 'sober', 'sociable', 'society', 'soe', 'soever', 'soft', 'soften', 'softest', 'softly', 'soil', 'sojourn', 'solace', 'sold', 'soldier', 'soldiers', 'sole', 'soled', 'solely', 'solemn', 'solemnity', 'soles', 'solicit', 'solicitation', 'solicited', 'solicitings', 'solid', 'solidity', 'some', 'somebody', 'someone', 'something', 'sometime', 'sometimes', 'somever', 'somewhere', 'son', 'song', 'songs', 'sonnet', 'sons', 'soon', 'sooner', 'soonest', 'sooth', 'soothsayer', 'sophist', 'sophy', 'sore', 'sorrow', 'sorrows', 'sorry', 'sort', 'sorted', 'sorts', 'sot', 'sought', 'soul', 'souls', 'sound', 'sounded', 'sounding', 'soundless', 'soundly', 'soundpost', 'sounds', 'sour', 'source', 'south', 'southerly', 'sovereign', 'sovereignty', 'sowed', 'sowter', 'space', 'spacious', 'spade', 'spades', 'spain', 'spake', 'spakest', 'spaniel', 'spanish', 'spare', 'sparing', 'spark', 'sparkling', 'sparks', 'sparrow', 'speak', 'speakest', 'speaking', 'speaks', 'special', 'specific', 'specified', 'spectacle', 'spectators', 'sped', 'speech', 'speeches', 'speechless', 'speed', 'speedier', 'speeding', 'speedy', 'spell', 'spend', 'spendthrift', 'spent', 'sphere', 'spheres', 'spices', 'spider', 'spies', 'spill', 'spills', 'spilt', 'spin', 'spinners', 'spinsters', 'spirit', 'spirited', 'spirits', 'spit', 'spite', 'spited', 'spits', 'spleen', 'splenative', 'splendour', 'split', 'spoil', 'spoils', 'spok', 'spoke', 'spoken', 'spokes', 'sponge', 'sport', 'sportful', 'sports', 'spot', 'spots', 'spouting', 'spouts', 'spread', 'spring', 'springe', 'springes', 'springs', 'sprinkle', 'sprung', 'spur', 'spurn', 'spurns', 'spurs', 'spy', 'squadrons', 'squash', 'squeak', 'squeal', 'squeezing', 'squirrel', 'st', 'stab', 'stabb', 'stabbed', 'stable', 'stabs', 'staff', 'stage', 'stages', 'stain', 'stained', 'stainless', 'stains', 'stair', 'stairs', 'stake', 'stakes', 'stal', 'stale', 'stalk', 'stalks', 'stamp', 'stand', 'standing', 'stands', 'staniel', 'star', 'stare', 'stares', 'stark', 'stars', 'start', 'started', 'startles', 'starts', 'starv', 'starve', 'starveth', 'state', 'stately', 'statements', 'states', 'statilius', 'station', 'statists', 'statue', 'status', 'statutes', 'stave', 'stay', 'stayed', 'staying', 'stays', 'steads', 'steal', 'stealers', 'stealing', 'steals', 'stealth', 'steeds', 'steel', 'steep', 'steerage', 'stemming', 'step', 'stepping', 'steps', 'sterile', 'sterling', 'stern', 'sterner', 'stew', 'steward', 'stick', 'stickest', 'sticks', 'stiff', 'stiffly', 'stifled', 'still', 'sting', 'stingless', 'stinking', 'stint', 'stinted', 'stir', 'stirr', 'stirreth', 'stirring', 'stirs', 'stitches', 'stithy', 'stoccata', 'stock', 'stockings', 'stol', 'stole', 'stomach', 'stomachs', 'stone', 'stones', 'stonish', 'stony', 'stood', 'stools', 'stoop', 'stooping', 'stoops', 'stop', 'stopp', 'stopping', 'stops', 'store', 'stored', 'storm', 'story', 'stoup', 'stoups', 'stout', 'stowed', 'strachy', 'straight', 'straightway', 'strain', 'straining', 'strains', 'strange', 'strangely', 'strangeness', 'stranger', 'strangers', 'strangest', 'strangle', 'strangled', 'straps', 'stratagems', 'strato', 'straw', 'straws', 'streaks', 'stream', 'street', 'streets', 'strength', 'strengthen', 'stretch', 'stretches', 'strew', 'strewments', 'stricken', 'strict', 'strife', 'strike', 'strikes', 'striking', 'strings', 'strip', 'strive', 'stroke', 'strokes', 'strong', 'stronger', 'strongest', 'strown', 'struck', 'strucken', 'struggling', 'strumpet', 'strutted', 'stubborn', 'stubbornness', 'stuck', 'student', 'studied', 'study', 'stuff', 'stumble', 'stumbled', 'stumblest', 'stumbling', 'stung', 'sty', 'subject', 'subjects', 'submission', 'submitting', 'subscrib', 'subscribe', 'substance', 'substantial', 'substractors', 'subtle', 'subtly', 'suburbs', 'success', 'succession', 'successive', 'such', 'suck', 'sucking', 'sudden', 'suddenly', 'suff', 'suffer', 'sufferance', 'suffered', 'suffering', 'suffers', 'sufficeth', 'sugar', 'suit', 'suited', 'suiting', 'suitor', 'suitors', 'suits', 'sullen', 'sullies', 'sulph', 'sultry', 'sum', 'summer', 'summers', 'summit', 'summons', 'sums', 'sun', 'sunday', 'sundays', 'sunder', 'sung', 'sunset', 'sup', 'superfluous', 'superstitious', 'supervise', 'supper', 'supple', 'suppliance', 'supplied', 'supply', 'support', 'supportance', 'supporter', 'supporting', 'suppos', 'supposal', 'suppose', 'supposed', 'suppress', 'sups', 'surcease', 'sure', 'surely', 'surest', 'surfeit', 'surfeiting', 'surgeon', 'surgere_', 'surges', 'surly', 'surmise', 'surprise', 'surprised', 'surrender', 'survive', 'survivor', 'susan', 'suspected', 'suspecting', 'suspicion', 'suspiration', 'sustain', 'swabber', 'swaddling', 'swaggering', 'swallow', 'swallowed', 'swamp', 'swan', 'swarths', 'sway', 'sways', 'swear', 'swearing', 'swearings', 'swears', 'sweat', 'sweaty', 'sweep', 'sweepstake', 'sweet', 'sweeten', 'sweeter', 'sweetest', 'sweetheart', 'sweeting', 'sweetly', 'sweetmeats', 'sweets', 'swell', 'swift', 'swifter', 'swiftness', 'swim', 'swinish', 'swits', 'switzers', 'swoon', 'swooned', 'swoons', 'sword', 'swords', 'swore', 'sworn', 'swounded', 'swounds', 'swung', 'sycamore', 'syllogism', 'sympathy', 'synod', 'synonymous', 'ta', 'table', 'tables', 'tabor', 'tackled', 'taffeta', 'tag', 'tail', 'tailor', 'taint', 'tainted', 'tainting', 'taints', 'take', 'taken', 'taker', 'takes', 'taking', 'tale', 'talents', 'tales', 'talk', 'talked', 'talkest', 'talking', 'tall', 'tallow', 'tame', 'tang', 'tann', 'tanner', 'taper', 'tardy', 'target', 'tarquin', 'tarre', 'tarry', 'tarrying', 'tartar', 'task', 'tassel', 'taste', 'tasted', 'tatter', 'tatters', 'taught', 'taunt', 'taurus', 'tavern', 'tax', 'taxation', 'taxes', 'teach', 'teaching', 'team', 'tear', 'tears', 'teat', 'tedious', 'tediousness', 'teen', 'teeth', 'tell', 'telling', 'tells', 'tellus', 'temper', 'temperance', 'temperately', 'tempering', 'tempest', 'tempests', 'temple', 'tempt', 'tempted', 'ten', 'tenable', 'tenantless', 'tenants', 'tend', 'tended', 'tender', 'tenders', 'tending', 'tennis', 'tenor', 'tent', 'tents', 'tenures', 'term', 'termagant', 'terms', 'terrible', 'terror', 'tertio_', 'test', 'testament', 'testify', 'testimony', 'testril', 'testy', 'tetchy', 'tether', 'tetter', 'text', 'texts', 'th', 'than', 'thank', 'thanked', 'thankful', 'thankings', 'thanks', 'thassos', 'that', 'thaw', 'the', 'theatre', 'thee', 'theft', 'their', 'theirs', 'them', 'theme', 'themselves', 'then', 'thence', 'there', 'thereabout', 'thereby', 'therefore', 'therein', 'thereof', 'thereon', 'thereto', 'thereunto', 'therewithal', 'these', 'thews', 'they', 'thick', 'thicker', 'thief', 'thieves', 'thievish', 'thigh', 'thighs', 'thin', 'thine', 'thing', 'things', 'think', 'thinkest', 'thinking', 'thinks', 'thinly', 'third', 'thirsty', 'thirteen', 'thirties', 'thirty', 'this', 'thisbe', 'thither', 'thorn', 'thorns', 'thorny', 'thorough', 'those', 'thou', 'though', 'thought', 'thoughts', 'thousand', 'thousands', 'thrall', 'thread', 'threat', 'threaten', 'threatening', 'threats', 'three', 'threw', 'thrice', 'thrift', 'thriftless', 'thrills', 'thrive', 'throat', 'throats', 'throne', 'throned', 'thrones', 'throng', 'through', 'throughly', 'throughout', 'throw', 'throwing', 'thrown', 'throws', 'thrust', 'thrusting', 'thrusts', 'thumb', 'thunder', 'thunderbolts', 'thunders', 'thursday', 'thus', 'thwarted', 'thy', 'thyself', 'tiber', 'tiberio', 'tickle', 'tickled', 'tickling', 'tide', 'tidings', 'tied', 'ties', 'tigers', 'till', 'tilly', 'tilts', 'timber', 'time', 'timeless', 'times', 'tinct', 'tinctures', 'tinkers', 'tiny', 'tips', 'tiptoe', 'tired', 'tis', 'titan', 'tithe', 'titinius', 'title', 'titus', 'tm', 'to', 'toad', 'toby', 'today', 'toe', 'toes', 'together', 'toil', 'toils', 'tokens', 'told', 'tomb', 'tombs', 'tomorrow', 'tongue', 'tongues', 'tonight', 'too', 'took', 'tool', 'top', 'topas', 'topas_', 'topgallant', 'topp', 'tops', 'torch', 'torchbearer', 'torches', 'torment', 'tormented', 'tormenting', 'torments', 'torn', 'torrent', 'tortoise', 'tortur', 'torture', 'toss', 'tossed', 'total', 'touch', 'touched', 'touches', 'touching', 'tow', 'toward', 'towards', 'tower', 'towers', 'town', 'toy', 'toys', 'trace', 'traces', 'trade', 'trademark', 'tradesman', 'traduc', 'traffic', 'tragedians', 'tragedy', 'tragical', 'trail', 'train', 'trains', 'traitor', 'traitorous', 'traitors', 'transcribe', 'transcription', 'transform', 'transformation', 'transformed', 'transgresses', 'transgression', 'translate', 'transparent', 'transports', 'trappings', 'trash', 'travel', 'travelled', 'traveller', 'tray', 'treacherous', 'treachery', 'tread', 'treading', 'treads', 'treason', 'treasure', 'treatment', 'treble', 'trebonius', 'tree', 'trees', 'tremble', 'trembled', 'trembles', 'trencher', 'trespass', 'trial', 'tribune', 'tributaries', 'tributary', 'tribute', 'trice', 'trick', 'tricks', 'tried', 'trifle', 'trifling', 'trim', 'trip', 'triplex', 'tripping', 'trippingly', 'tristful', 'triumph', 'triumphant', 'triumphs', 'triumvir', 'trivial', 'trod', 'troilus', 'trooping', 'troops', 'trophies', 'trophy', 'tropically', 'troth', 'trouble', 'troubled', 'troubles', 'trout', 'trow', 'troy', 'truant', 'truce', 'truckle', 'trudge', 'true', 'truepenny', 'truly', 'trumpet', 'trumpets', 'truncheon', 'trunk', 'trunks', 'trust', 'truster', 'trusty', 'truth', 'try', 'tu', 'tuck', 'tumbled', 'tune', 'tuners', 'tunes', 'turbulent', 'turf', 'turk', 'turkey', 'turn', 'turned', 'turneth', 'turning', 'turns', 'tush', 'tut', 'tutor', 'tutored', 'twain', 'twanged', 'twas', 'tweaks', 'tween', 'twelfth', 'twelve', 'twelvemonth', 'twentieth', 'twenty', 'twere', 'twice', 'twill', 'twin', 'twinkle', 'twisted', 'twixt', 'two', 'twofold', 'twopence', 'twould', 'txt', 'tybalt', 'tybalts', 'tying', 'types', 'tyrannically', 'tyrannous', 'tyranny', 'tyrant', 'tyrants', 'ubique', 'ugly', 'ulcer', 'ulcerous', 'umbrage', 'unaccustom', 'unadvis', 'unanel', 'unassailable', 'unattainted', 'unauspicious', 'unbated', 'unborn', 'unbound', 'unbrac', 'unbraced', 'unbruised', 'uncharge', 'uncharm', 'unchary', 'uncivil', 'unclasp', 'uncle', 'unclean', 'uncomfortable', 'uncourteous', 'uncover', 'unction', 'uncurrent', 'under', 'undergo', 'underlings', 'underneath', 'understand', 'understanding', 'understood', 'undertake', 'undertaker', 'undertakings', 'undeservers', 'undiscover', 'undo', 'undone', 'uneffectual', 'unenforceability', 'unequal', 'uneven', 'unfellowed', 'unfilled', 'unfirm', 'unfledg', 'unfold', 'unfoldeth', 'unforc', 'unfortified', 'unfriended', 'unfurnish', 'ungalled', 'ungart', 'ungentle', 'ungently', 'ungird', 'ungor', 'ungracious', 'unguided', 'unhallow', 'unhand', 'unhappily', 'unhappy', 'unhatched', 'unholy', 'unhospitable', 'unhous', 'unicorns', 'uniform', 'unimproved', 'union', 'unite', 'united', 'universal', 'university', 'unjust', 'unkennel', 'unkind', 'unkindest', 'unkindly', 'unkindness', 'unknowing', 'unknown', 'unless', 'unlimited', 'unlink', 'unlook', 'unluckily', 'unlucky', 'unmade', 'unmanly', 'unmann', 'unmannerly', 'unmask', 'unmaster', 'unmatch', 'unmatchable', 'unmeritable', 'unmix', 'unmuzzled', 'unnatural', 'unnerved', 'unnumber', 'unpack', 'unpeg', 'unplagu', 'unpleasing', 'unpolluted', 'unpregnant', 'unprevailing', 'unprizable', 'unprofitable', 'unprofited', 'unproportion', 'unprotected', 'unpurged', 'unreasonable', 'unreclaimed', 'unrest', 'unrighteous', 'unripe', 'unruly', 'unsafe', 'unsanctified', 'unsatisfied', 'unsavoury', 'unschool', 'unscorch', 'unseal', 'unseemly', 'unseen', 'unshak', 'unshaken', 'unshaped', 'unsifted', 'unsinew', 'unskilful', 'unsmirched', 'unsolicited', 'unsought', 'unsound', 'unstaid', 'unstain', 'unstuff', 'unsubstantial', 'unsuitable', 'unsure', 'untalk', 'untangle', 'untangled', 'untaught', 'unthankfulness', 'unthought', 'untie', 'until', 'untimely', 'untired', 'unto', 'untouch', 'untrod', 'unus', 'unvalu', 'unwash', 'unwatch', 'unweeded', 'unwholesome', 'unwieldy', 'unwilling', 'unworthiest', 'unworthy', 'unwrung', 'unyoke', 'up', 'upbraid', 'upbraids', 'updated', 'upfill', 'uphoarded', 'upmost', 'upon', 'upper', 'uprous', 'upshot', 'upspring', 'upturned', 'upward', 'urg', 'urge', 'urging', 'us', 'usage', 'use', 'used', 'user', 'uses', 'usest', 'useth', 'using', 'usual', 'usurer', 'usurp', 'ut', 'utensil', 'utf', 'utmost', 'utruvio', 'utter', 'utterance', 'uttered', 'uttermost', 'utters', 'vacancy', 'vailed', 'vain', 'vainly', 'vainness', 'valanc', 'valentine', 'valentio', 'valiant', 'validity', 'vally', 'valour', 'value', 'vanilla', 'vanish', 'vanished', 'vanishes', 'vanishest', 'vanity', 'vanquish', 'vanquisher', 'vantage', 'vapians', 'vapours', 'variable', 'variety', 'various', 'varnish', 'varro', 'vast', 'vault', 'vaulty', 'vaunting', 've', 'veil', 'veiled', 'veins', 'velvet', 'venerable', 'venge', 'vengeance', 'venom', 'vent', 'ventages', 'ventures', 'venus', 'verity', 'verona', 'veronese', 'versal', 'verse', 'verses', 'version', 'very', 'vessel', 'vessels', 'vestal', 'vesture', 'vex', 'vexed', 'vexest', 'vexeth', 'vi', 'vial', 'vice', 'vicious', 'victory', 'vienna', 'view', 'viewed', 'viewing', 'vigour', 'vii', 'vile', 'vilely', 'villager', 'villain', 'villainously', 'villains', 'villanies', 'villanous', 'villany', 'vinegar', 'viol', 'viola', 'violates', 'violence', 'violent', 'violently', 'violet', 'violets', 'virgin', 'virtue', 'virtues', 'virtuous', 'virus', 'visage', 'vision', 'visit', 'visitation', 'visited', 'visiting', 'visor', 'vitae', 'voice', 'voices', 'void', 'volley', 'voltemand', 'volume', 'volumnius', 'voluntary', 'volunteer', 'volunteers', 'votre', 'vouch', 'vouchers', 'vouchsafe', 'vouchsafed', 'vous', 'vow', 'vowel', 'vows', 'voyage', 'vulcan', 'vulgar', 'vulgo', 'waddled', 'wafture', 'wag', 'wager', 'waggon', 'waggoner', 'wail', 'wailing', 'wainropes', 'waist', 'wait', 'waited', 'waiting', 'waits', 'wake', 'waken', 'wakened', 'wakes', 'waking', 'walk', 'walking', 'walks', 'wall', 'walls', 'wan', 'wand', 'wander', 'wanders', 'want', 'wanting', 'wanton', 'wantonness', 'wantons', 'wants', 'war', 'ward', 'wardrobe', 'wards', 'ware', 'warlike', 'warm', 'warms', 'warmth', 'warn', 'warning', 'warnings', 'warns', 'warrant', 'warranties', 'warranty', 'warriors', 'wars', 'wart', 'wary', 'was', 'wash', 'washing', 'waspish', 'wassail', 'wast', 'waste', 'wasted', 'watch', 'watchful', 'watching', 'watchman', 'watchmen', 'water', 'waterfly', 'waters', 'watery', 'waverer', 'wavering', 'waves', 'waving', 'wax', 'waxen', 'waxes', 'way', 'waylay', 'ways', 'wayward', 'we', 'weak', 'weaker', 'weakest', 'weakness', 'weal', 'wealth', 'wean', 'weapon', 'weapons', 'wear', 'wearied', 'wearing', 'wears', 'weary', 'weasel', 'weather', 'weave', 'weaver', 'web', 'wed', 'wedded', 'wedding', 'wednesday', 'weed', 'weeds', 'weedy', 'week', 'weep', 'weeping', 'weeps', 'weigh', 'weighing', 'weight', 'welcome', 'welkin', 'well', 'wench', 'wenches', 'went', 'wept', 'were', 'wert', 'west', 'westward', 'whale', 'wharf', 'what', 'whate', 'whatsoever', 'wheaten', 'wheel', 'wheels', 'whelped', 'when', 'whence', 'whenever', 'whensoever', 'where', 'whereat', 'wherefore', 'wherein', 'whereof', 'whereon', 'whereto', 'whet', 'whether', 'which', 'whiff', 'while', 'whiles', 'whilst', 'whine', 'whining', 'whip', 'whipp', 'whipped', 'whipping', 'whips', 'whipstock', 'whirligig', 'whirling', 'whirlwind', 'whisper', 'whispering', 'whispers', 'whistle', 'whistles', 'whit', 'white', 'whiter', 'whither', 'whizzing', 'who', 'whoe', 'whole', 'wholesome', 'whom', 'whor', 'whore', 'whoreson', 'whose', 'why', 'wi', 'wick', 'wicked', 'wickedness', 'wide', 'widest', 'widow', 'widowed', 'wield', 'wife', 'wild', 'wildfowl', 'wildly', 'wildness', 'wilful', 'wilfully', 'will', 'william', 'willing', 'willingly', 'willow', 'wills', 'wilt', 'win', 'wince', 'wind', 'windlasses', 'window', 'windows', 'winds', 'windy', 'wine', 'wing', 'winged', 'wings', 'wink', 'winking', 'winks', 'winner', 'winning', 'winnowed', 'wins', 'winter', 'wipe', 'wisdom', 'wisdoms', 'wise', 'wisely', 'wiseness', 'wisest', 'wish', 'wished', 'wishes', 'wit', 'witch', 'witchcraft', 'witching', 'with', 'withal', 'withdraw', 'withdrew', 'wither', 'withers', 'withholds', 'within', 'without', 'witness', 'witnesses', 'wits', 'wittenberg', 'wittily', 'wittingly', 'witty', 'wive', 'wives', 'woe', 'woeful', 'woes', 'woful', 'wolf', 'wolvish', 'woman', 'womanish', 'womb', 'women', 'won', 'wonder', 'wonderful', 'wondering', 'wonders', 'wondrous', 'wont', 'wonted', 'woo', 'wood', 'woodcock', 'woodcocks', 'wooer', 'wooes', 'woos', 'word', 'words', 'wore', 'work', 'working', 'workman', 'works', 'world', 'worldly', 'worlds', 'worm', 'worms', 'wormwood', 'worn', 'worse', 'worser', 'worship', 'worshipp', 'worships', 'worst', 'worth', 'worthier', 'worthiness', 'worthless', 'worthy', 'wot', 'woul', 'would', 'wouldst', 'wound', 'wounded', 'woundless', 'wounds', 'wrangle', 'wrap', 'wrath', 'wrathfully', 'wreak', 'wreath', 'wreck', 'wren', 'wrenching', 'wretch', 'wretched', 'wretchedness', 'wring', 'wringing', 'wrinkled', 'wrist', 'writ', 'write', 'writers', 'writes', 'writing', 'writings', 'written', 'wrong', 'wronged', 'wrongs', 'wrote', 'wrought', 'wrung', 'www', 'yard', 'yare', 'yaughan', 'yaw', 'yawn', 'ye', 'yea', 'year', 'yearns', 'years', 'yeasty', 'yellow', 'yeoman', 'yes', 'yesterday', 'yesternight', 'yet', 'yew', 'yield', 'yielded', 'yielding', 'yields', 'yoke', 'yoked', 'yon', 'yond', 'yonder', 'yorick', 'you', 'young', 'younger', 'youngest', 'your', 'yours', 'yourself', 'yourselves', 'youth', 'youthful', 'youths', 'ythee', 'zanies', 'zip', 'zone', 'zounds']\n",
            "the dimensions of this word_count array are: (4, 8541)\n",
            "In Hamlet:\n",
            "\n",
            "battle: 0.0\n",
            "\n",
            "good: 110.0\n",
            "\n",
            "fool: 7.0\n",
            "\n",
            "wit: 6.0\n",
            "\n",
            "In Romeo&Juliet:\n",
            "\n",
            "battle: 0.0\n",
            "\n",
            "good: 85.0\n",
            "\n",
            "fool: 7.0\n",
            "\n",
            "wit: 13.0\n",
            "\n",
            "In Twelfth Night:\n",
            "\n",
            "battle: 0.0\n",
            "\n",
            "good: 80.0\n",
            "\n",
            "fool: 58.0\n",
            "\n",
            "wit: 15.0\n",
            "\n",
            "In Julius Caesar:\n",
            "\n",
            "battle: 9.0\n",
            "\n",
            "good: 70.0\n",
            "\n",
            "fool: 1.0\n",
            "\n",
            "wit: 2.0\n",
            "\n"
          ],
          "name": "stdout"
        }
      ]
    },
    {
      "cell_type": "code",
      "metadata": {
        "colab": {
          "base_uri": "https://localhost:8080/"
        },
        "id": "6SmuyZLacRtl",
        "outputId": "e9d4bb24-9829-48f1-b740-e551baa728ac"
      },
      "source": [
        "# Pandas is a great library for handling data in matrices and CSV files. \n",
        "# We can use it here just to display the selected columns of the term-document matrix.\n",
        "import pandas as pd  \n",
        "\n",
        "# Create a Pandas DataFrame object to represent the selected part of the term-document matrix \n",
        "# and print it with nice formatting.\n",
        "term_doc_df = pd.DataFrame(term_doc_cols, columns=word_list, index=title_list)\n",
        "print(term_doc_df)"
      ],
      "execution_count": 37,
      "outputs": [
        {
          "output_type": "stream",
          "text": [
            "               battle   good  fool   wit\n",
            "Hamlet            0.0  110.0   7.0   6.0\n",
            "Romeo&Juliet      0.0   85.0   7.0  13.0\n",
            "Twelfth Night     0.0   80.0  58.0  15.0\n",
            "Julius Caesar     9.0   70.0   1.0   2.0\n"
          ],
          "name": "stdout"
        }
      ]
    },
    {
      "cell_type": "markdown",
      "metadata": {
        "id": "W-swno96cRtl"
      },
      "source": [
        "TODO: use the complete term-document matrix in ```term_doc_matrix``` to print the term vector for the word 'old'. \n",
        "Hint: terms correspond to columns in ```term_doc_matrix```."
      ]
    },
    {
      "cell_type": "code",
      "metadata": {
        "colab": {
          "base_uri": "https://localhost:8080/"
        },
        "id": "N0OugEHicRtm",
        "outputId": "7db0a043-c4ab-4fd5-8e6f-4460decd2184"
      },
      "source": [
        "###WRITE YOUR OWN CODE HERE\n",
        "print(len(features))\n",
        "term_doc_df_all = pd.DataFrame(term_doc_matrix, columns=features, index=title_list)\n",
        "print(term_doc_df_all['old'])\n"
      ],
      "execution_count": 70,
      "outputs": [
        {
          "output_type": "stream",
          "text": [
            "8541\n",
            "Hamlet           22\n",
            "Romeo&Juliet     30\n",
            "Twelfth Night    14\n",
            "Julius Caesar    10\n",
            "Name: old, dtype: int64\n"
          ],
          "name": "stdout"
        }
      ]
    },
    {
      "cell_type": "markdown",
      "metadata": {
        "id": "3JEz2ueIcRtm"
      },
      "source": [
        "TODO: print the document vector for 'Romeo&Juliet' from ```term_doc_matrix```."
      ]
    },
    {
      "cell_type": "code",
      "metadata": {
        "colab": {
          "base_uri": "https://localhost:8080/"
        },
        "id": "QIYWOQeQcRtm",
        "outputId": "24167d4f-4411-4ff9-c6c2-3b34a45fb6c2"
      },
      "source": [
        "# we can find the index of the play in title_list by using where to indicate for which indexes in the array\n",
        "# a condition is true.\n",
        "didx = np.where(np.array(title_list) == 'Romeo&Juliet')[0][0]\n",
        "\n",
        "###WRITE YOUR OWN CODE HERE\n",
        "print(term_doc_matrix[didx])\n"
      ],
      "execution_count": 44,
      "outputs": [
        {
          "output_type": "stream",
          "text": [
            "[1 1 4 ... 1 0 2]\n"
          ],
          "name": "stdout"
        }
      ]
    },
    {
      "cell_type": "markdown",
      "metadata": {
        "id": "BdEojRq1cRtn"
      },
      "source": [
        "TODO: Using ```term_doc_cols```, compute the total counts of the words in ```word_list``` across all the books in the dataset. Store the counts in a variable ```word_counts```.\n",
        "\n",
        "Hint: you can use numpy's sum()."
      ]
    },
    {
      "cell_type": "code",
      "metadata": {
        "tags": [],
        "id": "RcyNC0RwcRtn"
      },
      "source": [
        "### WRITE YOUR OWN CODE HERE \n",
        "word_counts = []\n",
        "for idx_w in range(len(word_list)):\n",
        "  word_counts.append(np.sum(term_doc_cols[:,idx_w]))\n"
      ],
      "execution_count": 53,
      "outputs": []
    },
    {
      "cell_type": "code",
      "metadata": {
        "colab": {
          "base_uri": "https://localhost:8080/"
        },
        "id": "VJoJfVfEcRtn",
        "outputId": "a0c2027a-1333-4cc5-f481-ff906ae9414a"
      },
      "source": [
        "for i, word in enumerate(word_list):\n",
        "    print(\"{}: {}\\n\".format(word, word_counts[i]))"
      ],
      "execution_count": 54,
      "outputs": [
        {
          "output_type": "stream",
          "text": [
            "battle: 9.0\n",
            "\n",
            "good: 345.0\n",
            "\n",
            "fool: 73.0\n",
            "\n",
            "wit: 36.0\n",
            "\n"
          ],
          "name": "stdout"
        }
      ]
    },
    {
      "cell_type": "markdown",
      "metadata": {
        "id": "lyblt-4mcRto"
      },
      "source": [
        "Using the counts of the 4 given words in ```term_doc_cols```, each book can be represented by a 4-D vector. We can visualize the document vectors in a 2-D panel by selecting two vector dimensions at one time."
      ]
    },
    {
      "cell_type": "code",
      "metadata": {
        "colab": {
          "base_uri": "https://localhost:8080/",
          "height": 560
        },
        "id": "KDV5ThRicRto",
        "outputId": "4a904550-9404-40e6-d744-fa8c57221d3f"
      },
      "source": [
        "# put the plots into the notebook webpage\n",
        "%matplotlib inline  \n",
        "\n",
        "import matplotlib.pyplot as plt\n",
        "\n",
        "def plot_dimensions(first_dim, second_dim, term_doc_cols):\n",
        "    # create a list of starting points for arrows representing the vectors\n",
        "    X = np.zeros(len(title_list))\n",
        "    Y = np.zeros(len(title_list))\n",
        "\n",
        "    # create the list of endpoints for the vector arrows\n",
        "    U = term_doc_cols[:, first_dim]\n",
        "    V = term_doc_cols[:, second_dim]\n",
        "    \n",
        "    # create a new figure\n",
        "    plt.figure()\n",
        "    \n",
        "    # draw the arrows for the vectors\n",
        "    plt.quiver(X, Y, U, V, angles='xy', scale_units='xy', scale=1)\n",
        "    \n",
        "    # define some colours for markers for each document\n",
        "    c = ['r', 'b', 'g', 'y']\n",
        "    for i in range(len(title_list)):\n",
        "        # plot the points in U, V and c as dots in the 2D graph\n",
        "        plt.scatter(U[i], V[i], color=c[i], label=title_list[i], s=30)\n",
        "\n",
        "    plt.legend()\n",
        "    plt.xlabel(word_list[first_dim], fontsize = 20)\n",
        "    plt.ylabel(word_list[second_dim], fontsize = 20)\n",
        "\n",
        "    plt.show()\n",
        "                         \n",
        "plot_dimensions(1, 2, term_doc_cols)\n",
        "plot_dimensions(2,3,term_doc_cols)"
      ],
      "execution_count": 56,
      "outputs": [
        {
          "output_type": "display_data",
          "data": {
            "image/png": "[encoded data removed]",
            "text/plain": [
              "<Figure size 432x288 with 1 Axes>"
            ]
          },
          "metadata": {
            "tags": [],
            "needs_background": "light"
          }
        },
        {
          "output_type": "display_data",
          "data": {
            "image/png": "[encoded data removed]",
            "text/plain": [
              "<Figure size 432x288 with 1 Axes>"
            ]
          },
          "metadata": {
            "tags": [],
            "needs_background": "light"
          }
        }
      ]
    },
    {
      "cell_type": "markdown",
      "metadata": {
        "id": "7yL--FzQcRto"
      },
      "source": [
        "Now, we can use cosine similarity to calculate the similarity between two documents by their word counts for all words, given by ```term_doc_matrix```. Take Hamlet and Romeo&Juliet as an example. Sklearn also provides a function that implements cosine similarity between numpy arrays. When you pass the cosine_similarity function a list of vectors, it returns a matrix of similarities between all pairs of vectors in the list."
      ]
    },
    {
      "cell_type": "code",
      "metadata": {
        "colab": {
          "base_uri": "https://localhost:8080/"
        },
        "id": "crX0oSKZcRtp",
        "outputId": "3026a003-04be-4128-bddb-d0d320b7e0b2"
      },
      "source": [
        "from sklearn.metrics.pairwise import cosine_similarity\n",
        "\n",
        "cos_sim = cosine_similarity(term_doc_matrix)\n",
        "\n",
        "# use Pandas DataFrame again to get a nice matrix formatting:\n",
        "cos_sim_df = pd.DataFrame(cos_sim, columns=title_list, index=title_list)\n",
        "print(\"The cosine similarity matrix is:\")\n",
        "print(cos_sim_df)\n",
        "\n",
        "# Access similarity for a single pair of documents:\n",
        "print('The similarity between Hamlet and Romeo&Juliet is {}'.format(cos_sim[0][1]))"
      ],
      "execution_count": 57,
      "outputs": [
        {
          "output_type": "stream",
          "text": [
            "The cosine similarity matrix is:\n",
            "                 Hamlet  Romeo&Juliet  Twelfth Night  Julius Caesar\n",
            "Hamlet         1.000000      0.918428       0.908763       0.912049\n",
            "Romeo&Juliet   0.918428      1.000000       0.899899       0.894511\n",
            "Twelfth Night  0.908763      0.899899       1.000000       0.881946\n",
            "Julius Caesar  0.912049      0.894511       0.881946       1.000000\n",
            "The similarity between Hamlet and Romeo&Juliet is 0.9184280657904061\n"
          ],
          "name": "stdout"
        }
      ]
    },
    {
      "cell_type": "markdown",
      "metadata": {
        "id": "SeAQMFKQcRtp"
      },
      "source": [
        "TODO: Without using the sklearn function, use numpy functions to calculate the cosine similarity between Hamlet and Romeo & Juliet from the values in ```term_doc_matrix```. Assign the result to a variable ```sim```.\n",
        "\n",
        "$$similarity<v_1, v_2> = \\frac{v_1 \\cdot v_2}{|| v_1 || \\cdot || v_2 ||}$$\n",
        "\n",
        "Hints: \n",
        "   * You can calculate the dot product between two 1-D numpy arrays (vectors) using ```np.dot()``` and ```np.sqrt()```. \n",
        "   * The double bars mean vector length, for example $|| x || = \\sqrt{\\sum_{i=1}^D x^2}$ is the length of a vector $x$ with $D$ dimensions.\n",
        "   * You will need the numpy functions ```np.sqrt()``` and ```np.sum()``` to compute the lengths.\n"
      ]
    },
    {
      "cell_type": "code",
      "metadata": {
        "id": "SITOvCVmcRtq"
      },
      "source": [
        "# First, we get the vector representation of each book from the word_count_list.\n",
        "book1 = term_doc_matrix[0, :]\n",
        "book2 = term_doc_matrix[1, :]"
      ],
      "execution_count": 58,
      "outputs": []
    },
    {
      "cell_type": "code",
      "metadata": {
        "id": "kNt6SJ2dcRtq"
      },
      "source": [
        "### WRITE YOUR OWN CODE HERE\n",
        "sim = (np.dot(book1, book2)) / (np.sqrt(np.dot(book1, book1)) * np.sqrt(np.dot(book2, book2)))"
      ],
      "execution_count": 61,
      "outputs": []
    },
    {
      "cell_type": "code",
      "metadata": {
        "colab": {
          "base_uri": "https://localhost:8080/"
        },
        "id": "2xxwJGU0cRtq",
        "outputId": "31721054-383e-4c9a-e0ed-74f62a325dc4"
      },
      "source": [
        "print('The similarity between Hamlet and Romeo&Juliet is {}'.format(sim))"
      ],
      "execution_count": 62,
      "outputs": [
        {
          "output_type": "stream",
          "text": [
            "The similarity between Hamlet and Romeo&Juliet is 0.918428065790406\n"
          ],
          "name": "stdout"
        }
      ]
    },
    {
      "cell_type": "markdown",
      "metadata": {
        "id": "dczYR0mpcRtq"
      },
      "source": [
        "## 2.TF-IDF\n"
      ]
    },
    {
      "cell_type": "markdown",
      "metadata": {
        "id": "R7h6EhfScRtr"
      },
      "source": [
        "Using the word counts computed in the last part, we can calculate TF-IDF values for each term.  \n",
        "\n",
        "There are several variants of TF-IDF that modify the basic equations to handle zero counts and frequent terms in different ways. Here, we will use this formula:\n",
        "\n",
        "$$ tf(t,d) = count(t,d)$$\n",
        "$$ idf(t) = 1+ ln\\frac{N+1}{df(t+1)}$$\n",
        "\n",
        "___Be aware that we use a different formula to the textbook.___ Compared to the textbook, the IDF score for terms that occur in all documents will be 1 rather than 0 so they are still weighted by their term frequency. Further explanations of the differences is given in: https://scikit-learn.org/stable/modules/feature_extraction.html#text-feature-extraction\n",
        "\n",
        "Let's go step-by-step to compute the TF-IDF values.\n",
        "\n",
        "Reminder: ```term_document_matrix``` should be an array where rows correspond to documents and columns to terms.\n",
        "\n",
        "TODO: Complete the function below to compute document frequencies for a single term in a term-document matrix."
      ]
    },
    {
      "cell_type": "code",
      "metadata": {
        "colab": {
          "base_uri": "https://localhost:8080/"
        },
        "id": "uvkTnT1QcRtr",
        "outputId": "07419036-6331-4e66-a28b-abca43d2802c"
      },
      "source": [
        "term_doc_matrix"
      ],
      "execution_count": 63,
      "outputs": [
        {
          "output_type": "execute_result",
          "data": {
            "text/plain": [
              "array([[1, 1, 0, ..., 1, 1, 0],\n",
              "       [1, 1, 4, ..., 1, 0, 2],\n",
              "       [1, 1, 0, ..., 1, 0, 0],\n",
              "       [1, 1, 0, ..., 1, 0, 0]])"
            ]
          },
          "metadata": {
            "tags": []
          },
          "execution_count": 63
        }
      ]
    },
    {
      "cell_type": "code",
      "metadata": {
        "colab": {
          "base_uri": "https://localhost:8080/"
        },
        "id": "0tMmd1QzcRtr",
        "outputId": "3e6f1919-732a-4437-b937-a977407d7c4b"
      },
      "source": [
        "# compute DF for a single term in the matrix\n",
        "def document_frequency(term_doc_matrix, term_index):\n",
        "    ### WRITE YOUR OWN CODE HERE\n",
        "    term_df = pd.DataFrame(term_doc_matrix, columns=features, index=title_list).iloc[:,[term_index]]\n",
        "    return np.count_nonzero(term_df) / term_df.shape[0]\n",
        "\n",
        "print(document_frequency(term_doc_matrix, 34))    "
      ],
      "execution_count": 122,
      "outputs": [
        {
          "output_type": "stream",
          "text": [
            "0.25\n"
          ],
          "name": "stdout"
        }
      ]
    },
    {
      "cell_type": "markdown",
      "metadata": {
        "id": "WzAEyz_ncRtr"
      },
      "source": [
        "TODO: Complete the function below to compute inverse document frequency from document frequency."
      ]
    },
    {
      "cell_type": "code",
      "metadata": {
        "colab": {
          "base_uri": "https://localhost:8080/"
        },
        "id": "vodlOiYncRts",
        "outputId": "f9692dce-9e79-4949-cbb0-0107adbc7dfc"
      },
      "source": [
        "def inverse_document_frequency(df):\n",
        "    ### WRITE YOUR OWN CODE HERE\n",
        "    # we use different formula from the book/slides to keep results the same as sklearn's implementation\n",
        "    return 1 + np.log((len(term_doc_matrix[:,1]) + 1) / (df + 1))\n",
        "\n",
        "print(inverse_document_frequency(document_frequency(term_doc_matrix, 34)))"
      ],
      "execution_count": 130,
      "outputs": [
        {
          "output_type": "stream",
          "text": [
            "2.386294361119891\n"
          ],
          "name": "stdout"
        }
      ]
    },
    {
      "cell_type": "markdown",
      "metadata": {
        "id": "V9YwQ7CQcRts"
      },
      "source": [
        "TODO: Complete the function below to compute term frequency for a single term in a given document."
      ]
    },
    {
      "cell_type": "code",
      "metadata": {
        "colab": {
          "base_uri": "https://localhost:8080/"
        },
        "id": "67ocGy2HcRts",
        "outputId": "13a666b6-1618-453a-e4cb-91c043fad709"
      },
      "source": [
        "def term_frequency(word_count, doc_index, term_index):\n",
        "    ### WRITE YOUR OWN CODE HERE\n",
        "    doc = word_count[doc_index]\n",
        "    num_terms = doc[term_index]\n",
        "    return num_terms / len(word_count[doc_index])\n",
        "\n",
        "term_frequency(term_doc_matrix, 2, 539)"
      ],
      "execution_count": 131,
      "outputs": [
        {
          "output_type": "execute_result",
          "data": {
            "text/plain": [
              "0.00011708230886313078"
            ]
          },
          "metadata": {
            "tags": []
          },
          "execution_count": 131
        }
      ]
    },
    {
      "cell_type": "markdown",
      "metadata": {
        "id": "7n6zgvVacRts"
      },
      "source": [
        "Now we can run the code below to compute a TF-IDF matrix."
      ]
    },
    {
      "cell_type": "code",
      "metadata": {
        "tags": [],
        "colab": {
          "base_uri": "https://localhost:8080/"
        },
        "id": "elTcZXnmcRts",
        "outputId": "7a1e4b43-15e3-4d55-eb30-7db9a7b085b6"
      },
      "source": [
        "tfidf_matrix = np.zeros((len(title_list), len(book_vocab)))\n",
        "    \n",
        "# iterate over terms in the vocabulary and compute TF-IDF\n",
        "for t in book_vocab:  \n",
        "    t_index = book_vocab[t]\n",
        "    \n",
        "    df = document_frequency(term_doc_matrix, t_index)  # df for this term\n",
        "\n",
        "    for d in range(len(title_list)):  # iterate over documents in the list\n",
        "        tf = term_frequency(term_doc_matrix, d, t_index)  \n",
        "        idf = inverse_document_frequency(df)\n",
        "        tfidf_matrix[d, t_index] = tf * idf\n",
        "\n",
        "# normalize each document's tf-idf vector by its length (norm)\n",
        "for d in range(len(title_list)): \n",
        "    norm = np.sum(tfidf_matrix[d, :] ** 2)\n",
        "    norm = np.sqrt(norm)\n",
        "    tfidf_matrix[d, :] = tfidf_matrix[d, :] / norm\n",
        "\n",
        "# Select the columns for the words in word_list so we can print their values\n",
        "def print_selected_words(title_list, word_list, matrix):\n",
        "    cols = np.zeros((len(title_list), len(word_list)))\n",
        "    for i, word in enumerate(word_list):\n",
        "        cols[:, i] = matrix[:, book_vocab[word]]\n",
        "    cols_df = pd.DataFrame(cols, index=title_list, columns=word_list)\n",
        "    print(cols_df)\n",
        "    \n",
        "    return cols\n",
        "    \n",
        "print_selected_words(title_list, word_list, tfidf_matrix)"
      ],
      "execution_count": 133,
      "outputs": [
        {
          "output_type": "stream",
          "text": [
            "                 battle      good      fool       wit\n",
            "Hamlet         0.000000  0.038867  0.002473  0.002120\n",
            "Romeo&Juliet   0.000000  0.039761  0.003274  0.006081\n",
            "Twelfth Night  0.000000  0.041844  0.030337  0.007846\n",
            "Julius Caesar  0.005866  0.036637  0.000523  0.001047\n"
          ],
          "name": "stdout"
        },
        {
          "output_type": "execute_result",
          "data": {
            "text/plain": [
              "array([[0.        , 0.03886726, 0.00247337, 0.00212003],\n",
              "       [0.        , 0.03976096, 0.00327443, 0.00608109],\n",
              "       [0.        , 0.04184379, 0.03033675, 0.00784571],\n",
              "       [0.00586586, 0.03663737, 0.00052339, 0.00104678]])"
            ]
          },
          "metadata": {
            "tags": []
          },
          "execution_count": 133
        }
      ]
    },
    {
      "cell_type": "markdown",
      "metadata": {
        "id": "vewz6837cRtt"
      },
      "source": [
        "```sklearn``` also provides powerful functions for us to calculate the TF-IDF values for a set of documents. We can use the count of words in ```term_doc_matrix``` as input."
      ]
    },
    {
      "cell_type": "code",
      "metadata": {
        "tags": [],
        "colab": {
          "base_uri": "https://localhost:8080/"
        },
        "id": "UXRjxDp0cRtt",
        "outputId": "9f709ab4-25e9-4a1b-a97c-886740410b02"
      },
      "source": [
        "from sklearn.feature_extraction.text import TfidfTransformer, TfidfVectorizer\n",
        "\n",
        "# The class below transforms the sparse term-document matrix into TF-IDF values:\n",
        "tfidf_transformer = TfidfTransformer()\n",
        "tfidf_spmatrix = tfidf_transformer.fit_transform(term_doc_matrix)\n",
        "tfidf_matrix = tfidf_spmatrix.toarray()\n",
        "\n",
        "print_selected_words(title_list, word_list, tfidf_matrix)"
      ],
      "execution_count": 114,
      "outputs": [
        {
          "output_type": "stream",
          "text": [
            "                 battle      good      fool       wit\n",
            "Hamlet         0.000000  0.037334  0.002376  0.002036\n",
            "Romeo&Juliet   0.000000  0.037716  0.003106  0.005768\n",
            "Twelfth Night  0.000000  0.040132  0.029096  0.007525\n",
            "Julius Caesar  0.008567  0.034772  0.000497  0.000993\n"
          ],
          "name": "stdout"
        },
        {
          "output_type": "execute_result",
          "data": {
            "text/plain": [
              "array([[0.        , 0.03733405, 0.0023758 , 0.0020364 ],\n",
              "       [0.        , 0.03771612, 0.00310603, 0.00576835],\n",
              "       [0.        , 0.04013238, 0.02909598, 0.00752482],\n",
              "       [0.00856725, 0.03477246, 0.00049675, 0.0009935 ]])"
            ]
          },
          "metadata": {
            "tags": []
          },
          "execution_count": 114
        }
      ]
    },
    {
      "cell_type": "markdown",
      "metadata": {
        "id": "rC9v973TcRtt"
      },
      "source": [
        "Or we can calculate it directly from the text contained in ```book_list```:"
      ]
    },
    {
      "cell_type": "code",
      "metadata": {
        "colab": {
          "base_uri": "https://localhost:8080/"
        },
        "id": "oiLDcE0bcRtt",
        "outputId": "318b7d3a-55ff-431e-8bc5-e8d365cc22c0"
      },
      "source": [
        "tfidf_vectorizer = TfidfVectorizer()\n",
        "tfidf_spmatrix = tfidf_vectorizer.fit_transform(book_list)\n",
        "vocab = tfidf_vectorizer.vocabulary_\n",
        "tfidf_matrix = tfidf_spmatrix.toarray()\n",
        "\n",
        "tfidf_doc_cols = print_selected_words(title_list, word_list, tfidf_matrix)"
      ],
      "execution_count": 134,
      "outputs": [
        {
          "output_type": "stream",
          "text": [
            "                 battle      good      fool       wit\n",
            "Hamlet         0.000000  0.037334  0.002376  0.002036\n",
            "Romeo&Juliet   0.000000  0.037716  0.003106  0.005768\n",
            "Twelfth Night  0.000000  0.040132  0.029096  0.007525\n",
            "Julius Caesar  0.008567  0.034772  0.000497  0.000993\n"
          ],
          "name": "stdout"
        }
      ]
    },
    {
      "cell_type": "markdown",
      "metadata": {
        "id": "Iz2-QUdXcRtt"
      },
      "source": [
        "We can display these books by their tf-idf vectors on a 2-D panel.  Run the code below to display the vector by taking 'good' as x-axis and 'fool' as y-axis. \n",
        "\n",
        "TODO: Compare this plot with the previous plot made using the term-document matrix. What are the similarities and diffierences?"
      ]
    },
    {
      "cell_type": "code",
      "metadata": {
        "colab": {
          "base_uri": "https://localhost:8080/",
          "height": 289
        },
        "id": "m2ZQKaEycRtu",
        "outputId": "fb7e99f7-aca1-4619-aaf6-fe017e3f7eaf"
      },
      "source": [
        "plot_dimensions(1, 2, tfidf_doc_cols)\n",
        "# the overall shape is still familiar, twelfe night is still very much set apart \n",
        "# from the rest, but the rest of them are much more similar to each other in \n",
        "# terms of vector length and angle than before"
      ],
      "execution_count": 135,
      "outputs": [
        {
          "output_type": "display_data",
          "data": {
            "image/png": "[encoded data removed]",
            "text/plain": [
              "<Figure size 432x288 with 1 Axes>"
            ]
          },
          "metadata": {
            "tags": [],
            "needs_background": "light"
          }
        }
      ]
    },
    {
      "cell_type": "markdown",
      "metadata": {
        "id": "019MnHIocRtu"
      },
      "source": [
        "We can also calculate similarities between the TF-IDF document vectors shown above. \n",
        "\n",
        "TODO: Use the ```tfidf_matrix``` that we've already got to calculate the cosine similarity between Hamlet and Romeo & Juliet. How do the values compare to the similarities computed using the original term-document matrix?"
      ]
    },
    {
      "cell_type": "code",
      "metadata": {
        "colab": {
          "base_uri": "https://localhost:8080/"
        },
        "id": "TzekmpupcRtu",
        "outputId": "62c289a4-193a-4be6-a021-8e4511a7b670"
      },
      "source": [
        "from sklearn.metrics.pairwise import cosine_similarity as sk_cos_sim\n",
        "\n",
        "### WRITE YOUR OWN CODE HERE\n",
        "book1 = tfidf_matrix[0, :]\n",
        "book2 = tfidf_matrix[1, :]\n",
        "cos_sim = (np.dot(book1, book2)) / (np.sqrt(np.dot(book1, book1)) * np.sqrt(np.dot(book2, book2)))\n",
        "\n",
        "# use Pandas DataFrame again to get a nice matrix formatting:\n",
        "# why is this here, its useless in this context\n",
        "\"\"\"\n",
        "cos_sim_df = pd.DataFrame(cos_sim, columns=title_list, index=title_list)\n",
        "print(\"The cosine similarity matrix is:\")\n",
        "print(cos_sim_df)\n",
        "\"\"\"\n",
        "\n",
        "cos_sim_sk = sk_cos_sim(book1, book2)\n",
        "print(\"Calculated cosine sim:\",cos_sim)\n",
        "print(\"Sklearn cos sim:\",cos_sim_sk)\n",
        "# the new cosine sim calculated from the tfidf matrix is noticeably different to the \n",
        "# one computed from the original term-document matrix with a decrease in similarity"
      ],
      "execution_count": 142,
      "outputs": [
        {
          "output_type": "stream",
          "text": [
            "The cosine similarity matrix is:\n",
            "                Hamlet  Romeo&Juliet\n",
            "Hmalet        0.816118      0.816118\n",
            "Romeo&Juliet  0.816118      0.816118\n",
            "0.8161183307638112\n",
            "[[1.         0.81611833]\n",
            " [0.81611833 1.        ]]\n"
          ],
          "name": "stdout"
        }
      ]
    },
    {
      "cell_type": "markdown",
      "metadata": {
        "id": "iyTfOXhncRtu"
      },
      "source": [
        "## 3. Word2Vec"
      ]
    },
    {
      "cell_type": "markdown",
      "metadata": {
        "id": "4xvB0yKpcRtv"
      },
      "source": [
        "The previous section produce a term-document matrix and a TF-IDF matrix. As vector representations of a term, we can take the corresponding columns from these matrices. An alternative to these vector representations, which captures a lot more semantic information, is to use a word2vec word embedding. In this section, we will see how to obtain word2vec embeddings for the terms in our vocabulary.\n",
        "\n",
        "We can import the Word2Vec model from ```gensim``` and apply it to our input as shown in the next cell. If we are dealing with a very large dataset, it's not convenient to load all the data into memory. Therefore, the Word2Vec function takes a LineSentence object as its input, which streams the data from disk as required by the algorithm. The code below creates a LineSentence object, then trains the skipgram model on the input text. \n",
        "\n",
        "Have a look at the documentation in https://radimrehurek.com/gensim/models/word2vec.html to find out what the other parameters do. "
      ]
    },
    {
      "cell_type": "code",
      "metadata": {
        "colab": {
          "base_uri": "https://localhost:8080/"
        },
        "id": "ga3rcZMccRtv",
        "outputId": "d5843ce6-e8d0-46a9-fb98-e5c71d58e415"
      },
      "source": [
        "import logging\n",
        "import os\n",
        "from gensim.models import word2vec\n",
        "\n",
        "logging.basicConfig(format='%(asctime)s : %(levelname)s : %(message)s', level=logging.INFO)\n",
        "\n",
        "sentences = word2vec.LineSentence('shakespeare_sentences.txt')\n",
        "model = word2vec.Word2Vec(sentences, sg=1, min_count=1, window=3, size=100)"
      ],
      "execution_count": 143,
      "outputs": [
        {
          "output_type": "stream",
          "text": [
            "2021-02-28 23:20:53,921 : INFO : collecting all words and their counts\n",
            "2021-02-28 23:20:53,923 : INFO : PROGRESS: at sentence #0, processed 0 words, keeping 0 word types\n",
            "2021-02-28 23:20:53,964 : INFO : PROGRESS: at sentence #10000, processed 62463 words, keeping 12074 word types\n",
            "2021-02-28 23:20:54,005 : INFO : PROGRESS: at sentence #20000, processed 135687 words, keeping 20300 word types\n",
            "2021-02-28 23:20:54,046 : INFO : PROGRESS: at sentence #30000, processed 197193 words, keeping 26449 word types\n",
            "2021-02-28 23:20:54,095 : INFO : PROGRESS: at sentence #40000, processed 270222 words, keeping 33525 word types\n",
            "2021-02-28 23:20:54,142 : INFO : PROGRESS: at sentence #50000, processed 348445 words, keeping 39382 word types\n",
            "2021-02-28 23:20:54,192 : INFO : PROGRESS: at sentence #60000, processed 419695 words, keeping 43773 word types\n",
            "2021-02-28 23:20:54,237 : INFO : PROGRESS: at sentence #70000, processed 484381 words, keeping 48711 word types\n",
            "2021-02-28 23:20:54,294 : INFO : PROGRESS: at sentence #80000, processed 557943 words, keeping 52916 word types\n",
            "2021-02-28 23:20:54,338 : INFO : PROGRESS: at sentence #90000, processed 621099 words, keeping 56371 word types\n",
            "2021-02-28 23:20:54,384 : INFO : PROGRESS: at sentence #100000, processed 685534 words, keeping 59417 word types\n",
            "2021-02-28 23:20:54,435 : INFO : PROGRESS: at sentence #110000, processed 750289 words, keeping 62563 word types\n",
            "2021-02-28 23:20:54,487 : INFO : PROGRESS: at sentence #120000, processed 819368 words, keeping 66464 word types\n",
            "2021-02-28 23:20:54,537 : INFO : PROGRESS: at sentence #130000, processed 884342 words, keeping 70281 word types\n",
            "2021-02-28 23:20:54,589 : INFO : PROGRESS: at sentence #140000, processed 951309 words, keeping 75427 word types\n",
            "2021-02-28 23:20:54,600 : INFO : collected 76517 word types from a corpus of 961500 raw words and 141168 sentences\n",
            "2021-02-28 23:20:54,601 : INFO : Loading a fresh vocabulary\n",
            "2021-02-28 23:20:55,086 : INFO : effective_min_count=1 retains 76517 unique words (100% of original 76517, drops 0)\n",
            "2021-02-28 23:20:55,087 : INFO : effective_min_count=1 leaves 961500 word corpus (100% of original 961500, drops 0)\n",
            "2021-02-28 23:20:55,351 : INFO : deleting the raw counts dictionary of 76517 items\n",
            "2021-02-28 23:20:55,354 : INFO : sample=0.001 downsamples 44 most-common words\n",
            "2021-02-28 23:20:55,355 : INFO : downsampling leaves estimated 804366 word corpus (83.7% of prior 961500)\n",
            "2021-02-28 23:20:55,602 : INFO : estimated required memory for 76517 words and 100 dimensions: 99472100 bytes\n",
            "2021-02-28 23:20:55,603 : INFO : resetting layer weights\n",
            "2021-02-28 23:21:10,982 : INFO : training model with 3 workers on 76517 vocabulary and 100 features, using sg=1 hs=0 sample=0.001 negative=5 window=3\n",
            "2021-02-28 23:21:12,014 : INFO : EPOCH 1 - PROGRESS: at 26.26% examples, 203309 words/s, in_qsize 5, out_qsize 0\n",
            "2021-02-28 23:21:13,053 : INFO : EPOCH 1 - PROGRESS: at 52.22% examples, 206165 words/s, in_qsize 5, out_qsize 0\n",
            "2021-02-28 23:21:14,080 : INFO : EPOCH 1 - PROGRESS: at 77.83% examples, 202224 words/s, in_qsize 5, out_qsize 0\n",
            "2021-02-28 23:21:14,805 : INFO : worker thread finished; awaiting finish of 2 more threads\n",
            "2021-02-28 23:21:14,808 : INFO : worker thread finished; awaiting finish of 1 more threads\n",
            "2021-02-28 23:21:14,839 : INFO : worker thread finished; awaiting finish of 0 more threads\n",
            "2021-02-28 23:21:14,840 : INFO : EPOCH - 1 : training on 961500 raw words (804151 effective words) took 3.9s, 208624 effective words/s\n",
            "2021-02-28 23:21:15,865 : INFO : EPOCH 2 - PROGRESS: at 25.46% examples, 196811 words/s, in_qsize 5, out_qsize 0\n",
            "2021-02-28 23:21:16,921 : INFO : EPOCH 2 - PROGRESS: at 46.14% examples, 181143 words/s, in_qsize 5, out_qsize 0\n",
            "2021-02-28 23:21:17,978 : INFO : EPOCH 2 - PROGRESS: at 73.30% examples, 189101 words/s, in_qsize 5, out_qsize 0\n",
            "2021-02-28 23:21:18,829 : INFO : worker thread finished; awaiting finish of 2 more threads\n",
            "2021-02-28 23:21:18,866 : INFO : worker thread finished; awaiting finish of 1 more threads\n",
            "2021-02-28 23:21:18,887 : INFO : worker thread finished; awaiting finish of 0 more threads\n",
            "2021-02-28 23:21:18,888 : INFO : EPOCH - 2 : training on 961500 raw words (804270 effective words) took 4.0s, 199004 effective words/s\n",
            "2021-02-28 23:21:19,959 : INFO : EPOCH 3 - PROGRESS: at 22.64% examples, 164772 words/s, in_qsize 3, out_qsize 2\n",
            "2021-02-28 23:21:20,959 : INFO : EPOCH 3 - PROGRESS: at 47.05% examples, 185888 words/s, in_qsize 5, out_qsize 0\n",
            "2021-02-28 23:21:21,964 : INFO : EPOCH 3 - PROGRESS: at 74.42% examples, 195602 words/s, in_qsize 5, out_qsize 0\n",
            "2021-02-28 23:21:22,809 : INFO : worker thread finished; awaiting finish of 2 more threads\n",
            "2021-02-28 23:21:22,813 : INFO : worker thread finished; awaiting finish of 1 more threads\n",
            "2021-02-28 23:21:22,836 : INFO : worker thread finished; awaiting finish of 0 more threads\n",
            "2021-02-28 23:21:22,837 : INFO : EPOCH - 3 : training on 961500 raw words (804446 effective words) took 3.9s, 203884 effective words/s\n",
            "2021-02-28 23:21:23,864 : INFO : EPOCH 4 - PROGRESS: at 23.68% examples, 179741 words/s, in_qsize 5, out_qsize 0\n",
            "2021-02-28 23:21:24,918 : INFO : EPOCH 4 - PROGRESS: at 50.27% examples, 197214 words/s, in_qsize 5, out_qsize 0\n",
            "2021-02-28 23:21:25,944 : INFO : EPOCH 4 - PROGRESS: at 75.52% examples, 196258 words/s, in_qsize 5, out_qsize 0\n",
            "2021-02-28 23:21:26,941 : INFO : worker thread finished; awaiting finish of 2 more threads\n",
            "2021-02-28 23:21:26,984 : INFO : EPOCH 4 - PROGRESS: at 99.17% examples, 192018 words/s, in_qsize 1, out_qsize 1\n",
            "2021-02-28 23:21:26,992 : INFO : worker thread finished; awaiting finish of 1 more threads\n",
            "2021-02-28 23:21:26,999 : INFO : worker thread finished; awaiting finish of 0 more threads\n",
            "2021-02-28 23:21:27,000 : INFO : EPOCH - 4 : training on 961500 raw words (804021 effective words) took 4.2s, 193343 effective words/s\n",
            "2021-02-28 23:21:28,062 : INFO : EPOCH 5 - PROGRESS: at 24.58% examples, 181930 words/s, in_qsize 5, out_qsize 0\n",
            "2021-02-28 23:21:29,074 : INFO : EPOCH 5 - PROGRESS: at 50.27% examples, 197876 words/s, in_qsize 5, out_qsize 0\n",
            "2021-02-28 23:21:30,124 : INFO : EPOCH 5 - PROGRESS: at 75.53% examples, 195328 words/s, in_qsize 5, out_qsize 0\n",
            "2021-02-28 23:21:30,952 : INFO : worker thread finished; awaiting finish of 2 more threads\n",
            "2021-02-28 23:21:30,978 : INFO : worker thread finished; awaiting finish of 1 more threads\n",
            "2021-02-28 23:21:31,014 : INFO : worker thread finished; awaiting finish of 0 more threads\n",
            "2021-02-28 23:21:31,016 : INFO : EPOCH - 5 : training on 961500 raw words (804394 effective words) took 4.0s, 200548 effective words/s\n",
            "2021-02-28 23:21:31,016 : INFO : training on a 4807500 raw words (4021282 effective words) took 20.0s, 200730 effective words/s\n"
          ],
          "name": "stderr"
        }
      ]
    },
    {
      "cell_type": "markdown",
      "metadata": {
        "id": "Nq_UbFvQcRtv"
      },
      "source": [
        "Once the model is trained, we can access the embedding for a word as follows:"
      ]
    },
    {
      "cell_type": "code",
      "metadata": {
        "colab": {
          "base_uri": "https://localhost:8080/"
        },
        "id": "tPXE-JpCcRtv",
        "outputId": "f06bc240-88b4-44af-8153-bb28531ab48c"
      },
      "source": [
        "model.wv['horse']"
      ],
      "execution_count": 144,
      "outputs": [
        {
          "output_type": "execute_result",
          "data": {
            "text/plain": [
              "array([-0.02069795,  0.0202434 , -0.37368366, -0.09545694,  0.2972228 ,\n",
              "       -0.40875295,  0.22774641,  0.08556322, -0.12545848, -0.28131792,\n",
              "        0.17488453, -0.33611235,  0.03989315, -0.05669863, -0.03092194,\n",
              "        0.2505722 ,  0.27439982,  0.00424395,  0.26692027, -0.57521164,\n",
              "        0.36067456, -0.54002845, -0.13063644, -0.16428328,  0.1858009 ,\n",
              "        0.0415387 ,  0.33363444, -0.21818721,  0.39366266,  0.02051857,\n",
              "        0.33008882, -0.04566618, -0.27033526, -0.10098337, -0.2033539 ,\n",
              "       -0.01962271,  0.3370707 ,  0.41431907,  0.71782595,  0.28082582,\n",
              "       -0.3938224 , -0.12266684,  0.10372351,  0.15963976,  0.16459826,\n",
              "       -0.14058985, -0.1534843 ,  0.24130952, -0.13607524, -0.36148128,\n",
              "        0.31370968, -0.01721956,  0.35330155,  0.5818333 ,  0.04568664,\n",
              "        0.04782134,  0.14761761,  0.16572438,  0.08706145, -0.18570124,\n",
              "       -0.01664038,  0.02260878,  0.11812358, -0.12069236,  0.24255462,\n",
              "       -0.02181391,  0.24290286,  0.05230559,  0.39013714,  0.881496  ,\n",
              "       -0.60186076,  0.01438936, -0.36757174,  0.07093109,  0.03060274,\n",
              "        0.08143508,  0.50847584, -0.25436032, -0.08699033, -0.3969739 ,\n",
              "       -0.57539344,  0.115185  ,  0.5533757 , -0.2868823 , -0.42341727,\n",
              "        0.3172078 ,  0.00540225, -0.12053881,  0.24230322, -0.32071805,\n",
              "       -0.5448165 ,  0.21703756,  0.6897969 ,  0.31801113,  0.69318265,\n",
              "       -0.01946548, -0.24361739,  0.17490907, -0.1039523 ,  0.2500819 ],\n",
              "      dtype=float32)"
            ]
          },
          "metadata": {
            "tags": []
          },
          "execution_count": 144
        }
      ]
    },
    {
      "cell_type": "markdown",
      "metadata": {
        "id": "xXImIX-5cRtv"
      },
      "source": [
        "The Gensim Word2Vec implementation provides various convenient built-in functions. Firstly, to find top $n$ words which are the most similar to the target word:"
      ]
    },
    {
      "cell_type": "code",
      "metadata": {
        "colab": {
          "base_uri": "https://localhost:8080/"
        },
        "id": "XCCBufJwcRtw",
        "outputId": "edf4942d-f59a-4ebb-d73c-b768925bd6a2"
      },
      "source": [
        "most_similar_words = model.wv.similar_by_word('love', topn = 10)\n",
        "for word in most_similar_words:\n",
        "    print(word)"
      ],
      "execution_count": 145,
      "outputs": [
        {
          "output_type": "stream",
          "text": [
            "2021-02-28 23:26:22,577 : INFO : precomputing L2-norms of word weight vectors\n"
          ],
          "name": "stderr"
        },
        {
          "output_type": "stream",
          "text": [
            "('fear', 0.9140092134475708)\n",
            "('hate', 0.8981427550315857)\n",
            "('pity', 0.8962258696556091)\n",
            "('praise', 0.8928511142730713)\n",
            "('care', 0.8898102641105652)\n",
            "('love,', 0.8893955945968628)\n",
            "('doing', 0.8863915205001831)\n",
            "('believe', 0.8838284015655518)\n",
            "('name', 0.8828940987586975)\n",
            "('desire', 0.8808187246322632)\n"
          ],
          "name": "stdout"
        }
      ]
    },
    {
      "cell_type": "markdown",
      "metadata": {
        "id": "W1VhxL1VcRtw"
      },
      "source": [
        "What do you think the second value in the list above shows?\n",
        "\n",
        "We can also use a built-in function to calculate similarity:"
      ]
    },
    {
      "cell_type": "code",
      "metadata": {
        "colab": {
          "base_uri": "https://localhost:8080/"
        },
        "id": "Emj6AOHxcRtw",
        "outputId": "97f0e050-a6a4-4155-bd20-14c67d1228fc"
      },
      "source": [
        "print(model.wv.similarity('Romeo', 'Juliet'))"
      ],
      "execution_count": 146,
      "outputs": [
        {
          "output_type": "stream",
          "text": [
            "0.89155227\n"
          ],
          "name": "stdout"
        }
      ]
    },
    {
      "cell_type": "markdown",
      "metadata": {
        "id": "o6b_OG0ncRtw"
      },
      "source": [
        "TODO: Calculate the similarities between Hamlet and Macbeth."
      ]
    },
    {
      "cell_type": "code",
      "metadata": {
        "colab": {
          "base_uri": "https://localhost:8080/"
        },
        "id": "VH8bCv8kcRtw",
        "outputId": "28b4b73a-ff00-4031-c96d-093b6da94de3"
      },
      "source": [
        "### WRITE YOUR OWN CODE HERE\n",
        "print(model.wv.similarity('Hamlet', 'Macbeth'))"
      ],
      "execution_count": 147,
      "outputs": [
        {
          "output_type": "stream",
          "text": [
            "0.96223664\n"
          ],
          "name": "stdout"
        }
      ]
    },
    {
      "cell_type": "markdown",
      "metadata": {
        "id": "cTKjJdazcRtx"
      },
      "source": [
        "We can use ```doesnt_match``` to pick one word that doesn't match with the set. 'Happy' is the only adjective in the set:"
      ]
    },
    {
      "cell_type": "code",
      "metadata": {
        "colab": {
          "base_uri": "https://localhost:8080/"
        },
        "id": "KSsql_uscRtx",
        "outputId": "24dd0845-30b1-4156-94ec-48337a6b097f"
      },
      "source": [
        "print(model.wv.doesnt_match(('Mercutio Juliet Hamlet Macbeth happy').split(' ')))"
      ],
      "execution_count": 150,
      "outputs": [
        {
          "output_type": "stream",
          "text": [
            "happy\n"
          ],
          "name": "stdout"
        },
        {
          "output_type": "stream",
          "text": [
            "/usr/local/lib/python3.7/dist-packages/gensim/models/keyedvectors.py:895: FutureWarning: arrays to stack must be passed as a \"sequence\" type such as list or tuple. Support for non-sequence iterables such as generators is deprecated as of NumPy 1.16 and will raise an error in the future.\n",
            "  vectors = vstack(self.word_vec(word, use_norm=True) for word in used_words).astype(REAL)\n"
          ],
          "name": "stderr"
        }
      ]
    },
    {
      "cell_type": "markdown",
      "metadata": {
        "id": "6c-mnlxecRtx"
      },
      "source": [
        "TODO: Find the word doesn't match with \\['Hamlet', 'Claudius', 'Polonius', 'Romeo', 'horse'\\]"
      ]
    },
    {
      "cell_type": "code",
      "metadata": {
        "colab": {
          "base_uri": "https://localhost:8080/"
        },
        "id": "KMQl7pPScRtx",
        "outputId": "7a7e51c5-149b-424f-9c48-4781fdc00a11"
      },
      "source": [
        "### WRITE YOUR OWN CODE HERE\n",
        "print(model.wv.doesnt_match(['Hamlet', 'Claudius', 'Polonius', 'Romeo', 'horse']))"
      ],
      "execution_count": 149,
      "outputs": [
        {
          "output_type": "stream",
          "text": [
            "horse\n"
          ],
          "name": "stdout"
        },
        {
          "output_type": "stream",
          "text": [
            "/usr/local/lib/python3.7/dist-packages/gensim/models/keyedvectors.py:895: FutureWarning: arrays to stack must be passed as a \"sequence\" type such as list or tuple. Support for non-sequence iterables such as generators is deprecated as of NumPy 1.16 and will raise an error in the future.\n",
            "  vectors = vstack(self.word_vec(word, use_norm=True) for word in used_words).astype(REAL)\n"
          ],
          "name": "stderr"
        }
      ]
    },
    {
      "cell_type": "markdown",
      "metadata": {
        "id": "jsH5uTwQcRtx"
      },
      "source": [
        "The word embeddings here are trained on the Shakespeare book text. This is suitable for using with text from  Shakespeare plays, but for many other types of text, we can use a pretrained word2vec model that has previously been learned from a very large dataset. Large datasets typically lead to better embeddings.\n",
        "\n",
        "Gensim lets us access such a model as in the cell below (this may take some time to download the model):"
      ]
    },
    {
      "cell_type": "code",
      "metadata": {
        "colab": {
          "base_uri": "https://localhost:8080/"
        },
        "id": "Ll-lZvZNcRty",
        "outputId": "ab3b5a69-2a7f-4908-d207-0c84a2d308d3"
      },
      "source": [
        "import gensim.downloader\n",
        "\n",
        "glove_vectors = gensim.downloader.load('glove-twitter-50')\n",
        "\n",
        "# show the vector for Hamlet:\n",
        "print(glove_vectors.wv['horse'])"
      ],
      "execution_count": 151,
      "outputs": [
        {
          "output_type": "stream",
          "text": [
            "2021-02-28 23:33:45,422 : INFO : Creating /root/gensim-data\n"
          ],
          "name": "stderr"
        },
        {
          "output_type": "stream",
          "text": [
            "[==================================================] 100.0% 199.5/199.5MB downloaded\n"
          ],
          "name": "stdout"
        },
        {
          "output_type": "stream",
          "text": [
            "2021-02-28 23:34:23,434 : INFO : glove-twitter-50 downloaded\n",
            "2021-02-28 23:34:23,438 : INFO : loading projection weights from /root/gensim-data/glove-twitter-50/glove-twitter-50.gz\n",
            "2021-02-28 23:36:06,169 : INFO : loaded (1193514, 50) matrix from /root/gensim-data/glove-twitter-50/glove-twitter-50.gz\n"
          ],
          "name": "stderr"
        },
        {
          "output_type": "stream",
          "text": [
            "[-0.45415  -0.5559    0.3165   -0.73472   0.48329  -0.47131   0.58741\n",
            "  0.23555   0.34305  -0.16473   0.071575  0.42511  -3.4352    0.18617\n",
            "  0.50667   0.27521   0.18426  -0.63193   0.32526  -0.25414   0.026154\n",
            "  0.37055   0.82475  -0.29531   0.18063   0.86241  -0.77509   0.288\n",
            "  0.39302  -0.54777   0.5931    0.29372   0.21855  -0.45915   0.19027\n",
            "  0.56614   0.22987  -0.099232 -0.39798  -0.69595  -0.38917  -0.35256\n",
            " -0.82363   0.51109   0.63193   1.0831    0.5867    0.86035   0.1656\n",
            "  0.50838 ]\n"
          ],
          "name": "stdout"
        },
        {
          "output_type": "stream",
          "text": [
            "/usr/local/lib/python3.7/dist-packages/ipykernel_launcher.py:6: DeprecationWarning: Call to deprecated `wv` (Attribute will be removed in 4.0.0, use self instead).\n",
            "  \n"
          ],
          "name": "stderr"
        }
      ]
    },
    {
      "cell_type": "markdown",
      "metadata": {
        "id": "g2cok5B2cRty"
      },
      "source": [
        "You can find a list of models here in the 'Pretrained Models' section: https://radimrehurek.com/gensim/models/word2vec.html. \n",
        "\n",
        "**OPTIONAL** TODO: Compute the similarity between 'love' and 'fear' with the GloVe Twitter 50-dimensional embeddings. How does this compare to our Word2Vec embeddings trained on Shakespeare plays?"
      ]
    },
    {
      "cell_type": "code",
      "metadata": {
        "colab": {
          "base_uri": "https://localhost:8080/"
        },
        "id": "fltPWsPKcRty",
        "outputId": "2613f7b6-5dea-49b3-d394-e7fc44225f3a"
      },
      "source": [
        "### WRITE YOUR OWN CODE HERE\n",
        "glove_vectors.wv.similarity('love', 'fear')"
      ],
      "execution_count": 152,
      "outputs": [
        {
          "output_type": "stream",
          "text": [
            "/usr/local/lib/python3.7/dist-packages/ipykernel_launcher.py:2: DeprecationWarning: Call to deprecated `wv` (Attribute will be removed in 4.0.0, use self instead).\n",
            "  \n"
          ],
          "name": "stderr"
        },
        {
          "output_type": "execute_result",
          "data": {
            "text/plain": [
              "0.58080983"
            ]
          },
          "metadata": {
            "tags": []
          },
          "execution_count": 152
        }
      ]
    },
    {
      "cell_type": "markdown",
      "metadata": {
        "id": "-XJ3wNc5cRty"
      },
      "source": [
        "In the following weeks, we will see how to use the word embeddings as input representations for a classifier or sequence labeller."
      ]
    }
  ]
}